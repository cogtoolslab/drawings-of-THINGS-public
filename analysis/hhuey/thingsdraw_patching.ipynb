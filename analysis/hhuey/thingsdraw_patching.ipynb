{
 "cells": [
  {
   "cell_type": "code",
   "execution_count": 1,
   "metadata": {},
   "outputs": [],
   "source": [
    "import os, sys\n",
    "\n",
    "import pymongo as pm\n",
    "import base64\n",
    "import numpy as np\n",
    "import scipy.stats as stats\n",
    "import pandas as pd\n",
    "import json\n",
    "import socket\n",
    "import io\n",
    "\n",
    "from PIL import Image\n",
    "import matplotlib.pyplot as plt\n",
    "from mpl_toolkits.axes_grid1 import ImageGrid\n",
    "import matplotlib.image as mpimg\n",
    "%matplotlib inline\n",
    "from IPython.core.pylabtools import figsize, getfigs\n",
    "import seaborn as sns\n",
    "sns.set_context('talk')\n",
    "sns.set_style('white')\n",
    "from IPython.display import clear_output\n",
    "\n",
    "import warnings\n",
    "warnings.filterwarnings(\"ignore\", category=DeprecationWarning)\n",
    "warnings.filterwarnings(\"ignore\", message=\"numpy.dtype size changed\")\n",
    "warnings.filterwarnings(\"ignore\", message=\"numpy.ufunc size changed\")\n",
    "%load_ext autoreload\n",
    "%autoreload 2"
   ]
  },
  {
   "cell_type": "code",
   "execution_count": 2,
   "metadata": {},
   "outputs": [
    {
     "data": {
      "text/plain": [
       "['/Users/hollyhuey/things-drawings/results',\n",
       " '/Users/hollyhuey/things-drawings/results/plots',\n",
       " '/Users/hollyhuey/things-drawings/results/csv']"
      ]
     },
     "execution_count": 2,
     "metadata": {},
     "output_type": "execute_result"
    }
   ],
   "source": [
    "## set up directory\n",
    "proj_dir = os.path.abspath('../..')\n",
    "analysis_dir = os.getcwd()\n",
    "results_dir = os.path.join(proj_dir,'results')\n",
    "plot_dir = os.path.join(results_dir,'plots')\n",
    "csv_dir = os.path.join(results_dir,'csv')\n",
    "exp_dir = os.path.abspath(os.path.join(proj_dir,'experiments'))\n",
    "\n",
    "## add helpers to python path\n",
    "if os.path.join(proj_dir,'utils') not in sys.path:\n",
    "    sys.path.append(os.path.join(proj_dir,'utils'))\n",
    "\n",
    "def make_dir_if_not_exists(dir_name):   \n",
    "    if not os.path.exists(dir_name):\n",
    "        os.makedirs(dir_name)\n",
    "    return dir_name\n",
    "\n",
    "## create directories that don't already exist        \n",
    "[make_dir_if_not_exists(x) for x in [results_dir,plot_dir,csv_dir]]"
   ]
  },
  {
   "cell_type": "code",
   "execution_count": 4,
   "metadata": {},
   "outputs": [],
   "source": [
    "## load in data\n",
    "sketch_df = pd.read_csv(os.path.join(csv_dir,'things_drawing_1854_pilot_2_sketches.csv'))"
   ]
  },
  {
   "cell_type": "code",
   "execution_count": 16,
   "metadata": {},
   "outputs": [
    {
     "name": "stdout",
     "output_type": "stream",
     "text": [
      "We have at least 1 drawing for 96 unique concepts\n",
      "We still need drawings for 1758 concepts\n"
     ]
    }
   ],
   "source": [
    "## count how many drawings overall\n",
    "count = pd.DataFrame(sketch_df.groupby(['concept'])['gameID'].nunique()).reset_index()\n",
    "print('We have at least 1 drawing for {} unique concepts'.format(sketch_df['concept'].nunique()))\n",
    "\n",
    "totalConcepts = 1854\n",
    "print('We still need drawings for {} concepts'.format(totalConcepts - sketch_df['concept'].nunique()))"
   ]
  },
  {
   "cell_type": "code",
   "execution_count": 28,
   "metadata": {},
   "outputs": [
    {
     "name": "stdout",
     "output_type": "stream",
     "text": [
      "Of run concepts, we have 1 drawings for 96 concepts\n",
      "Of run concepts, we have 2 drawings for 0 concepts\n",
      "Of run concepts, we have 3 drawings for 0 concepts\n",
      "Of run concepts, we have 4 drawings for 0 concepts\n",
      "Of run concepts, we have 5 drawings for 0 concepts\n",
      "Of run concepts, we have 6 drawings for 0 concepts\n",
      "Of run concepts, we have 7 drawings for 0 concepts\n",
      "Of run concepts, we have 8 drawings for 0 concepts\n",
      "Of run concepts, we have 9 drawings for 0 concepts\n",
      "Of run concepts, we have 10 drawings for 0 concepts\n",
      "Of run concepts, we have 11 drawings for 0 concepts\n",
      "Of run concepts, we have enough drawings for 0 concepts\n"
     ]
    }
   ],
   "source": [
    "## count drawings per concept\n",
    "for i in np.arange(1,12): \n",
    "    print('Of run concepts, we have {} drawings for {} concepts'.format(i, len(count.loc[count['gameID'] == i])))\n",
    "print('Of run concepts, we have enough drawings for {} concepts'.format(len(count.loc[count['gameID'] >= 12])))"
   ]
  },
  {
   "cell_type": "code",
   "execution_count": 31,
   "metadata": {},
   "outputs": [],
   "source": [
    "## make list of concepts that we have enough drawings for\n",
    "enoughdrawings = count.loc[count['gameID'] >= 12]['concept']"
   ]
  },
  {
   "cell_type": "code",
   "execution_count": null,
   "metadata": {},
   "outputs": [],
   "source": []
  }
 ],
 "metadata": {
  "kernelspec": {
   "display_name": "Python 3",
   "language": "python",
   "name": "python3"
  },
  "language_info": {
   "codemirror_mode": {
    "name": "ipython",
    "version": 3
   },
   "file_extension": ".py",
   "mimetype": "text/x-python",
   "name": "python",
   "nbconvert_exporter": "python",
   "pygments_lexer": "ipython3",
   "version": "3.7.10"
  }
 },
 "nbformat": 4,
 "nbformat_minor": 4
}
