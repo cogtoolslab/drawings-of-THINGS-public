{
 "cells": [
  {
   "cell_type": "code",
   "execution_count": 1,
   "metadata": {},
   "outputs": [],
   "source": [
    "import os, sys\n",
    "\n",
    "import pymongo as pm\n",
    "import base64\n",
    "import numpy as np\n",
    "import scipy.stats as stats\n",
    "import pandas as pd\n",
    "import json\n",
    "import socket\n",
    "import io\n",
    "\n",
    "from PIL import Image\n",
    "import matplotlib.pyplot as plt\n",
    "from mpl_toolkits.axes_grid1 import ImageGrid\n",
    "import matplotlib.image as mpimg\n",
    "%matplotlib inline\n",
    "from IPython.core.pylabtools import figsize, getfigs\n",
    "import seaborn as sns\n",
    "sns.set_context('talk')\n",
    "sns.set_style('white')\n",
    "from IPython.display import clear_output\n",
    "\n",
    "import warnings\n",
    "warnings.filterwarnings(\"ignore\", category=DeprecationWarning)\n",
    "warnings.filterwarnings(\"ignore\", message=\"numpy.dtype size changed\")\n",
    "warnings.filterwarnings(\"ignore\", message=\"numpy.ufunc size changed\")\n",
    "%load_ext autoreload\n",
    "%autoreload 2"
   ]
  },
  {
   "cell_type": "markdown",
   "metadata": {},
   "source": [
    "### Directory & file hierarchy"
   ]
  },
  {
   "cell_type": "code",
   "execution_count": 2,
   "metadata": {},
   "outputs": [
    {
     "data": {
      "text/plain": [
       "['/Users/kushinm/Documents/Github/things-drawings/results',\n",
       " '/Users/kushinm/Documents/Github/things-drawings/results/plots',\n",
       " '/Users/kushinm/Documents/Github/things-drawings/results/csv']"
      ]
     },
     "execution_count": 2,
     "metadata": {},
     "output_type": "execute_result"
    }
   ],
   "source": [
    "\n",
    "proj_dir = os.path.abspath('../..')\n",
    "analysis_dir = os.getcwd()\n",
    "results_dir = os.path.join(proj_dir,'results')\n",
    "plot_dir = os.path.join(results_dir,'plots')\n",
    "csv_dir = os.path.join(results_dir,'csv')\n",
    "exp_dir = os.path.abspath(os.path.join(proj_dir,'experiments'))\n",
    "\n",
    "## add helpers to python path\n",
    "if os.path.join(proj_dir,'utils') not in sys.path:\n",
    "    sys.path.append(os.path.join(proj_dir,'utils'))\n",
    "\n",
    "def make_dir_if_not_exists(dir_name):   \n",
    "    if not os.path.exists(dir_name):\n",
    "        os.makedirs(dir_name)\n",
    "    return dir_name\n",
    "\n",
    "## create directories that don't already exist        \n",
    "[make_dir_if_not_exists(x) for x in [results_dir,plot_dir,csv_dir]]"
   ]
  },
  {
   "cell_type": "markdown",
   "metadata": {},
   "source": [
    "### Quick helpers"
   ]
  },
  {
   "cell_type": "code",
   "execution_count": 3,
   "metadata": {},
   "outputs": [],
   "source": [
    "## transsform base64 png string to image for plotting\n",
    "def string_to_image(im_string):\n",
    "    im = io.BytesIO(base64.decodebytes(str.encode(im_string.split(',')[1])))\n",
    "    im = mpimg.imread(im, format='PNG')\n",
    "    return im\n",
    "\n",
    "\n",
    "### function to plot a grid of sketches\n",
    "\n",
    "def plot_image_grid(concept,dim):\n",
    "\n",
    "    im_arr = sketch_df[sketch_df.concept==concept].png_array\n",
    "    if im_arr.shape[0]<dim:\n",
    "        dim = im_arr.shape[0]\n",
    "    \n",
    "    fig = plt.figure(figsize=(dim*1.5, 2))\n",
    "    grid = ImageGrid(fig, 111, \n",
    "                    nrows_ncols=(1, dim),  # creates 2x2 grid of axes\n",
    "                    axes_pad=0.1,  # pad between axes\n",
    "                    )\n",
    "\n",
    "    for ax, im in zip(grid, im_arr):\n",
    "        ax.imshow(im)\n",
    "        ax.get_yaxis().set_ticks([])\n",
    "        ax.get_xaxis().set_ticks([])\n",
    "    fig.suptitle(f'THINGS-100 {concept}', fontsize=16)\n",
    "\n",
    "\n",
    "    plt.show()\n"
   ]
  },
  {
   "cell_type": "markdown",
   "metadata": {},
   "source": [
    "### Set up connetion to mongo\n",
    "#### Ignore the next few cells if loading data locally and go the 'Load data locally' part of the notebook\n",
    "Don't forget to `ssh -fNL 27017:127.0.0.1:27017` \\\n",
    "auth.txt should be in your local repository"
   ]
  },
  {
   "cell_type": "code",
   "execution_count": 77,
   "metadata": {},
   "outputs": [],
   "source": [
    "PROJECT = \"things-drawings\"\n",
    "# DATASET = \"things-100\" ## this was our pilot run\n",
    "DATASET = \"things-1854\"\n",
    "TASK = \"production_run_patching\"\n",
    "ITERATION = \"pilot_3\"\n",
    "EXPERIMENT = DATASET + \"_\" + TASK\n",
    "# EXPERIMENT = DATASET "
   ]
  },
  {
   "cell_type": "code",
   "execution_count": 78,
   "metadata": {},
   "outputs": [],
   "source": [
    "### set up credentials\n",
    "\n",
    "auth = pd.read_csv(os.path.join(analysis_dir,'auth.txt'), header = None) # this auth.txt file contains the password for the sketchloop user\n",
    "pswd = auth.values[0][0]\n",
    "user = 'sketchloop'\n",
    "host = 'cogtoolslab.org'\n",
    "\n",
    "conn = pm.MongoClient('mongodb://sketchloop:' + pswd + '@127.0.0.1:27017')\n",
    "db = conn[PROJECT]\n",
    "coll = db[EXPERIMENT]"
   ]
  },
  {
   "cell_type": "code",
   "execution_count": 131,
   "metadata": {},
   "outputs": [],
   "source": [
    "d = conn['visual-abstraction-benchmarking']\n",
    "\n",
    "coll = d['things-128_recognition_human']"
   ]
  },
  {
   "cell_type": "code",
   "execution_count": 132,
   "metadata": {},
   "outputs": [
    {
     "data": {
      "text/plain": [
       "['things-128_recognition_human']"
      ]
     },
     "execution_count": 132,
     "metadata": {},
     "output_type": "execute_result"
    }
   ],
   "source": [
    "### list all collections in d\n",
    "d.list_collection_names()"
   ]
  },
  {
   "cell_type": "code",
   "execution_count": 133,
   "metadata": {},
   "outputs": [
    {
     "name": "stdout",
     "output_type": "stream",
     "text": [
      "We have 340 records in mongo.\n"
     ]
    }
   ],
   "source": [
    "\n",
    "print('We have {} records in mongo.'.format(coll.estimated_document_count()))\n"
   ]
  },
  {
   "cell_type": "code",
   "execution_count": 134,
   "metadata": {},
   "outputs": [
    {
     "data": {
      "text/html": [
       "<div>\n",
       "<style scoped>\n",
       "    .dataframe tbody tr th:only-of-type {\n",
       "        vertical-align: middle;\n",
       "    }\n",
       "\n",
       "    .dataframe tbody tr th {\n",
       "        vertical-align: top;\n",
       "    }\n",
       "\n",
       "    .dataframe thead th {\n",
       "        text-align: right;\n",
       "    }\n",
       "</style>\n",
       "<table border=\"1\" class=\"dataframe\">\n",
       "  <thead>\n",
       "    <tr style=\"text-align: right;\">\n",
       "      <th></th>\n",
       "      <th>_id</th>\n",
       "      <th>rt</th>\n",
       "      <th>stimulus</th>\n",
       "      <th>response</th>\n",
       "      <th>filename_recog</th>\n",
       "      <th>trial_type</th>\n",
       "      <th>trial_index</th>\n",
       "      <th>time_elapsed</th>\n",
       "      <th>internal_node_id</th>\n",
       "      <th>pointer_device</th>\n",
       "      <th>iterationName</th>\n",
       "      <th>recruitmentPlatform</th>\n",
       "      <th>workerID</th>\n",
       "      <th>studyID</th>\n",
       "      <th>sessionID</th>\n",
       "      <th>valid</th>\n",
       "    </tr>\n",
       "  </thead>\n",
       "  <tbody>\n",
       "    <tr>\n",
       "      <th>0</th>\n",
       "      <td>642b4ac13515d453359a0f41</td>\n",
       "      <td>1186</td>\n",
       "      <td>&lt;p&gt;Press 'v' if valid or 'i' if invalid. Is th...</td>\n",
       "      <td>v</td>\n",
       "      <td>milkshake_04s_32000_63dd8f7c210faf0f7d158183.png</td>\n",
       "      <td>html-keyboard-response</td>\n",
       "      <td>2</td>\n",
       "      <td>4311</td>\n",
       "      <td>0.0-2.0-0.0</td>\n",
       "      <td>fine</td>\n",
       "      <td>testing</td>\n",
       "      <td>prolific</td>\n",
       "      <td>None</td>\n",
       "      <td>None</td>\n",
       "      <td>None</td>\n",
       "      <td>True</td>\n",
       "    </tr>\n",
       "    <tr>\n",
       "      <th>1</th>\n",
       "      <td>642b4ac33515d453359a0f43</td>\n",
       "      <td>1993</td>\n",
       "      <td>&lt;p&gt;Press 'v' if valid or 'i' if invalid. Is th...</td>\n",
       "      <td>i</td>\n",
       "      <td>tortellini_09s_4000_63ce069b8988816856b67f1f.png</td>\n",
       "      <td>html-keyboard-response</td>\n",
       "      <td>3</td>\n",
       "      <td>6305</td>\n",
       "      <td>0.0-2.0-0.1</td>\n",
       "      <td>fine</td>\n",
       "      <td>testing</td>\n",
       "      <td>prolific</td>\n",
       "      <td>None</td>\n",
       "      <td>None</td>\n",
       "      <td>None</td>\n",
       "      <td>False</td>\n",
       "    </tr>\n",
       "    <tr>\n",
       "      <th>2</th>\n",
       "      <td>642b4ac53515d453359a0f44</td>\n",
       "      <td>1368</td>\n",
       "      <td>&lt;p&gt;Press 'v' if valid or 'i' if invalid. Is th...</td>\n",
       "      <td>v</td>\n",
       "      <td>beanbag_16s_8000_63cc3827f845c37fbc6fc3b8.png</td>\n",
       "      <td>html-keyboard-response</td>\n",
       "      <td>4</td>\n",
       "      <td>7674</td>\n",
       "      <td>0.0-2.0-0.2</td>\n",
       "      <td>fine</td>\n",
       "      <td>testing</td>\n",
       "      <td>prolific</td>\n",
       "      <td>None</td>\n",
       "      <td>None</td>\n",
       "      <td>None</td>\n",
       "      <td>True</td>\n",
       "    </tr>\n",
       "    <tr>\n",
       "      <th>3</th>\n",
       "      <td>642b4ac63515d453359a0f46</td>\n",
       "      <td>1136</td>\n",
       "      <td>&lt;p&gt;Press 'v' if valid or 'i' if invalid. Is th...</td>\n",
       "      <td>i</td>\n",
       "      <td>chainsaw_03s_8000_63cb261cf845c37fbc6fa53f.png</td>\n",
       "      <td>html-keyboard-response</td>\n",
       "      <td>5</td>\n",
       "      <td>8811</td>\n",
       "      <td>0.0-2.0-0.3</td>\n",
       "      <td>fine</td>\n",
       "      <td>testing</td>\n",
       "      <td>prolific</td>\n",
       "      <td>None</td>\n",
       "      <td>None</td>\n",
       "      <td>None</td>\n",
       "      <td>False</td>\n",
       "    </tr>\n",
       "    <tr>\n",
       "      <th>4</th>\n",
       "      <td>642b4ac73515d453359a0f47</td>\n",
       "      <td>1063</td>\n",
       "      <td>&lt;p&gt;Press 'v' if valid or 'i' if invalid. Is th...</td>\n",
       "      <td>v</td>\n",
       "      <td>wrap_06s_4000_63cc3846c966b17f84911ec4.png</td>\n",
       "      <td>html-keyboard-response</td>\n",
       "      <td>6</td>\n",
       "      <td>9875</td>\n",
       "      <td>0.0-2.0-0.4</td>\n",
       "      <td>fine</td>\n",
       "      <td>testing</td>\n",
       "      <td>prolific</td>\n",
       "      <td>None</td>\n",
       "      <td>None</td>\n",
       "      <td>None</td>\n",
       "      <td>True</td>\n",
       "    </tr>\n",
       "    <tr>\n",
       "      <th>...</th>\n",
       "      <td>...</td>\n",
       "      <td>...</td>\n",
       "      <td>...</td>\n",
       "      <td>...</td>\n",
       "      <td>...</td>\n",
       "      <td>...</td>\n",
       "      <td>...</td>\n",
       "      <td>...</td>\n",
       "      <td>...</td>\n",
       "      <td>...</td>\n",
       "      <td>...</td>\n",
       "      <td>...</td>\n",
       "      <td>...</td>\n",
       "      <td>...</td>\n",
       "      <td>...</td>\n",
       "      <td>...</td>\n",
       "    </tr>\n",
       "    <tr>\n",
       "      <th>335</th>\n",
       "      <td>642bb9e0638efd1e1c1fb835</td>\n",
       "      <td>1661</td>\n",
       "      <td>&lt;p&gt;Press &lt;b&gt;v&lt;/b&gt; if valid or &lt;b&gt;i&lt;/b&gt; if inva...</td>\n",
       "      <td>arrowright</td>\n",
       "      <td>volleyball_12s_32000_63cc58442fd8a27fefec6cc6.png</td>\n",
       "      <td>html-keyboard-response</td>\n",
       "      <td>5</td>\n",
       "      <td>11904</td>\n",
       "      <td>0.0-2.0-0.3</td>\n",
       "      <td>fine</td>\n",
       "      <td>testing</td>\n",
       "      <td>prolific</td>\n",
       "      <td>None</td>\n",
       "      <td>None</td>\n",
       "      <td>None</td>\n",
       "      <td>True</td>\n",
       "    </tr>\n",
       "    <tr>\n",
       "      <th>336</th>\n",
       "      <td>642bba0b638efd1e1c1fb836</td>\n",
       "      <td>2519</td>\n",
       "      <td>&lt;p&gt;Press &lt;b&gt;v&lt;/b&gt; if valid or &lt;b&gt;i&lt;/b&gt; if inva...</td>\n",
       "      <td>arrowright</td>\n",
       "      <td>extinguisher_13s_4000_63cb6d2dc966b17f849119e2...</td>\n",
       "      <td>html-keyboard-response</td>\n",
       "      <td>2</td>\n",
       "      <td>4468</td>\n",
       "      <td>0.0-2.0-0.0</td>\n",
       "      <td>fine</td>\n",
       "      <td>testing</td>\n",
       "      <td>prolific</td>\n",
       "      <td>None</td>\n",
       "      <td>None</td>\n",
       "      <td>None</td>\n",
       "      <td>True</td>\n",
       "    </tr>\n",
       "    <tr>\n",
       "      <th>337</th>\n",
       "      <td>642bba0f638efd1e1c1fb837</td>\n",
       "      <td>4391</td>\n",
       "      <td>&lt;p&gt;Press &lt;b&gt;v&lt;/b&gt; if valid or &lt;b&gt;i&lt;/b&gt; if inva...</td>\n",
       "      <td>arrowright</td>\n",
       "      <td>doily_06s_16000_63cf70a1e16530353f1fd121.png</td>\n",
       "      <td>html-keyboard-response</td>\n",
       "      <td>3</td>\n",
       "      <td>8863</td>\n",
       "      <td>0.0-2.0-0.1</td>\n",
       "      <td>fine</td>\n",
       "      <td>testing</td>\n",
       "      <td>prolific</td>\n",
       "      <td>None</td>\n",
       "      <td>None</td>\n",
       "      <td>None</td>\n",
       "      <td>False</td>\n",
       "    </tr>\n",
       "    <tr>\n",
       "      <th>338</th>\n",
       "      <td>642bba11638efd1e1c1fb838</td>\n",
       "      <td>1998</td>\n",
       "      <td>&lt;p&gt;Press &lt;b&gt;v&lt;/b&gt; if valid or &lt;b&gt;i&lt;/b&gt; if inva...</td>\n",
       "      <td>arrowright</td>\n",
       "      <td>kimono_04s_16000_63cb13f90328517f9fc435a1.png</td>\n",
       "      <td>html-keyboard-response</td>\n",
       "      <td>4</td>\n",
       "      <td>10863</td>\n",
       "      <td>0.0-2.0-0.2</td>\n",
       "      <td>fine</td>\n",
       "      <td>testing</td>\n",
       "      <td>prolific</td>\n",
       "      <td>None</td>\n",
       "      <td>None</td>\n",
       "      <td>None</td>\n",
       "      <td>True</td>\n",
       "    </tr>\n",
       "    <tr>\n",
       "      <th>339</th>\n",
       "      <td>642bba13638efd1e1c1fb839</td>\n",
       "      <td>1638</td>\n",
       "      <td>&lt;p&gt;Press &lt;b&gt;v&lt;/b&gt; if valid or &lt;b&gt;i&lt;/b&gt; if inva...</td>\n",
       "      <td>arrowright</td>\n",
       "      <td>hummus_08s_16000_63dda623fef2bb12207ba262.png</td>\n",
       "      <td>html-keyboard-response</td>\n",
       "      <td>5</td>\n",
       "      <td>12502</td>\n",
       "      <td>0.0-2.0-0.3</td>\n",
       "      <td>fine</td>\n",
       "      <td>testing</td>\n",
       "      <td>prolific</td>\n",
       "      <td>None</td>\n",
       "      <td>None</td>\n",
       "      <td>None</td>\n",
       "      <td>False</td>\n",
       "    </tr>\n",
       "  </tbody>\n",
       "</table>\n",
       "<p>340 rows × 16 columns</p>\n",
       "</div>"
      ],
      "text/plain": [
       "                          _id    rt  \\\n",
       "0    642b4ac13515d453359a0f41  1186   \n",
       "1    642b4ac33515d453359a0f43  1993   \n",
       "2    642b4ac53515d453359a0f44  1368   \n",
       "3    642b4ac63515d453359a0f46  1136   \n",
       "4    642b4ac73515d453359a0f47  1063   \n",
       "..                        ...   ...   \n",
       "335  642bb9e0638efd1e1c1fb835  1661   \n",
       "336  642bba0b638efd1e1c1fb836  2519   \n",
       "337  642bba0f638efd1e1c1fb837  4391   \n",
       "338  642bba11638efd1e1c1fb838  1998   \n",
       "339  642bba13638efd1e1c1fb839  1638   \n",
       "\n",
       "                                              stimulus    response  \\\n",
       "0    <p>Press 'v' if valid or 'i' if invalid. Is th...           v   \n",
       "1    <p>Press 'v' if valid or 'i' if invalid. Is th...           i   \n",
       "2    <p>Press 'v' if valid or 'i' if invalid. Is th...           v   \n",
       "3    <p>Press 'v' if valid or 'i' if invalid. Is th...           i   \n",
       "4    <p>Press 'v' if valid or 'i' if invalid. Is th...           v   \n",
       "..                                                 ...         ...   \n",
       "335  <p>Press <b>v</b> if valid or <b>i</b> if inva...  arrowright   \n",
       "336  <p>Press <b>v</b> if valid or <b>i</b> if inva...  arrowright   \n",
       "337  <p>Press <b>v</b> if valid or <b>i</b> if inva...  arrowright   \n",
       "338  <p>Press <b>v</b> if valid or <b>i</b> if inva...  arrowright   \n",
       "339  <p>Press <b>v</b> if valid or <b>i</b> if inva...  arrowright   \n",
       "\n",
       "                                        filename_recog  \\\n",
       "0     milkshake_04s_32000_63dd8f7c210faf0f7d158183.png   \n",
       "1     tortellini_09s_4000_63ce069b8988816856b67f1f.png   \n",
       "2        beanbag_16s_8000_63cc3827f845c37fbc6fc3b8.png   \n",
       "3       chainsaw_03s_8000_63cb261cf845c37fbc6fa53f.png   \n",
       "4           wrap_06s_4000_63cc3846c966b17f84911ec4.png   \n",
       "..                                                 ...   \n",
       "335  volleyball_12s_32000_63cc58442fd8a27fefec6cc6.png   \n",
       "336  extinguisher_13s_4000_63cb6d2dc966b17f849119e2...   \n",
       "337       doily_06s_16000_63cf70a1e16530353f1fd121.png   \n",
       "338      kimono_04s_16000_63cb13f90328517f9fc435a1.png   \n",
       "339      hummus_08s_16000_63dda623fef2bb12207ba262.png   \n",
       "\n",
       "                 trial_type  trial_index  time_elapsed internal_node_id  \\\n",
       "0    html-keyboard-response            2          4311      0.0-2.0-0.0   \n",
       "1    html-keyboard-response            3          6305      0.0-2.0-0.1   \n",
       "2    html-keyboard-response            4          7674      0.0-2.0-0.2   \n",
       "3    html-keyboard-response            5          8811      0.0-2.0-0.3   \n",
       "4    html-keyboard-response            6          9875      0.0-2.0-0.4   \n",
       "..                      ...          ...           ...              ...   \n",
       "335  html-keyboard-response            5         11904      0.0-2.0-0.3   \n",
       "336  html-keyboard-response            2          4468      0.0-2.0-0.0   \n",
       "337  html-keyboard-response            3          8863      0.0-2.0-0.1   \n",
       "338  html-keyboard-response            4         10863      0.0-2.0-0.2   \n",
       "339  html-keyboard-response            5         12502      0.0-2.0-0.3   \n",
       "\n",
       "    pointer_device iterationName recruitmentPlatform workerID studyID  \\\n",
       "0             fine       testing            prolific     None    None   \n",
       "1             fine       testing            prolific     None    None   \n",
       "2             fine       testing            prolific     None    None   \n",
       "3             fine       testing            prolific     None    None   \n",
       "4             fine       testing            prolific     None    None   \n",
       "..             ...           ...                 ...      ...     ...   \n",
       "335           fine       testing            prolific     None    None   \n",
       "336           fine       testing            prolific     None    None   \n",
       "337           fine       testing            prolific     None    None   \n",
       "338           fine       testing            prolific     None    None   \n",
       "339           fine       testing            prolific     None    None   \n",
       "\n",
       "    sessionID  valid  \n",
       "0        None   True  \n",
       "1        None  False  \n",
       "2        None   True  \n",
       "3        None  False  \n",
       "4        None   True  \n",
       "..        ...    ...  \n",
       "335      None   True  \n",
       "336      None   True  \n",
       "337      None  False  \n",
       "338      None   True  \n",
       "339      None  False  \n",
       "\n",
       "[340 rows x 16 columns]"
      ]
     },
     "execution_count": 134,
     "metadata": {},
     "output_type": "execute_result"
    }
   ],
   "source": [
    "pd.DataFrame(coll.find({'iterationName':'testing','trial_type':'html-keyboard-response'}))"
   ]
  },
  {
   "cell_type": "code",
   "execution_count": 104,
   "metadata": {
    "scrolled": true
   },
   "outputs": [
    {
     "name": "stdout",
     "output_type": "stream",
     "text": [
      "dict_keys(['_id', 'rt', 'stimulus', 'response', 'trial_type', 'trial_index', 'time_elapsed', 'internal_node_id', 'pointer_device', 'iterationName', 'recruitmentPlatform', 'workerID', 'studyID', 'sessionID'])\n"
     ]
    }
   ],
   "source": [
    "### Check that we have all the columns we want\n",
    "print(coll.find_one().keys())"
   ]
  },
  {
   "cell_type": "code",
   "execution_count": 69,
   "metadata": {},
   "outputs": [],
   "source": [
    "### Make a df of sketches and metadata\n",
    "coll_filtered = coll.find({'iterationName':ITERATION,'trial_type':'sketchpad'})\n",
    "#pd.DataFrame(coll_filtered).to_csv(os.path.join(csv_dir,'temp.csv'))\n",
    "sketch_df = pd.DataFrame(coll_filtered)\n",
    "ratings_meta_df = pd.DataFrame(coll.find({'iterationName':ITERATION,'trial_type':'survey-multi-choice'}))\n",
    "ratings_meta_df = ratings_meta_df.loc[ratings_meta_df['trial_index'] != 50]\n",
    "\n",
    "survey_df = pd.DataFrame(coll.find({'trial_type': {'$ne': 'sketchpad'}}))\n",
    "survey_df = survey_df.loc[(survey_df['trial_index'] == 50) | \\\n",
    "              (survey_df['trial_index'] == 51) | \\\n",
    "              (survey_df['trial_index'] == 52) | \\\n",
    "              (survey_df['trial_index'] == 53)]\n",
    "\n",
    "survey_df.to_csv(os.path.join(csv_dir,'things_drawing_1854_{}_demosurvey.csv'.format(ITERATION)))\n",
    "ratings_meta_df.to_csv(os.path.join(csv_dir,'things_drawing_1854_{}_meta.csv'.format(ITERATION)))\n",
    "sketch_df.to_csv(os.path.join(csv_dir,'things_drawing_1854_{}_sketches.csv'.format(ITERATION)))"
   ]
  },
  {
   "cell_type": "markdown",
   "metadata": {},
   "source": [
    "### Load data locally: Put CSVs in '../results/csv/'"
   ]
  },
  {
   "cell_type": "code",
   "execution_count": 237,
   "metadata": {},
   "outputs": [],
   "source": [
    "sketch_df = pd.read_csv(os.path.join(csv_dir,'things_drawing_1854_{}_sketches.csv'.format(ITERATION)))\n",
    "ratings_meta_df = pd.read_csv(os.path.join(csv_dir,'things_drawing_1854_{}_meta.csv'.format(ITERATION)))\n",
    "\n",
    "sketch_df.strokes = sketch_df.apply(lambda x: eval(x.strokes), axis=1)\n",
    "sketch_df.undo_history = sketch_df.apply(lambda x: eval(x.undo_history), axis=1)"
   ]
  },
  {
   "cell_type": "code",
   "execution_count": 238,
   "metadata": {},
   "outputs": [
    {
     "data": {
      "text/plain": [
       "6"
      ]
     },
     "execution_count": 238,
     "metadata": {},
     "output_type": "execute_result"
    }
   ],
   "source": [
    "# sketch_df.workerID.nunique()\n",
    "sketch_df.gameID.nunique()"
   ]
  },
  {
   "cell_type": "code",
   "execution_count": 70,
   "metadata": {},
   "outputs": [],
   "source": [
    "### We'll want to save images based on sessionID\n",
    "### Save the images in the 'plots' dir\n",
    "iteration_dir = os.path.join(plot_dir,EXPERIMENT+'_'+ITERATION)\n",
    "make_dir_if_not_exists(iteration_dir)\n",
    "\n",
    "\n",
    "for i, row in sketch_df.iterrows():\n",
    "    with open(os.path.join(iteration_dir,f\"{row.concept}_{row.sessionID}.png\"), \"wb\") as fw:\n",
    "        fw.write(base64.decodebytes(str.encode(row.png.split(',')[1])))\n",
    "        \n"
   ]
  },
  {
   "cell_type": "markdown",
   "metadata": {},
   "source": [
    "### Let's visualize a few sketches"
   ]
  },
  {
   "cell_type": "code",
   "execution_count": 10,
   "metadata": {},
   "outputs": [],
   "source": [
    "##Cherry picked sketch\n",
    "test_strokes = sketch_df.strokes[3] \n",
    "test_undos = sketch_df.undo_history[3] ### Might not exist\n"
   ]
  },
  {
   "cell_type": "code",
   "execution_count": 11,
   "metadata": {},
   "outputs": [],
   "source": [
    "### Old plotting code, keep around if needed\n",
    "\n",
    "# im_temp = np.zeros((550,550))\n",
    "\n",
    "# for stroke in test_strokes:\n",
    "\n",
    "#     xs = [x['x'] for x in stroke if x['action']!='end']\n",
    "#     ys = [x['y'] for x in stroke if x['action']!='end']\n",
    "#     im_temp[ys,xs]=1\n",
    "# plt.imshow(im_temp, cmap = 'gray_r')\n",
    "# plt.title('pen trajectory')\n",
    "# plt.show()"
   ]
  },
  {
   "cell_type": "code",
   "execution_count": 13,
   "metadata": {},
   "outputs": [
    {
     "data": {
      "image/png": "[encoded data removed]",
      "text/plain": [
       "<Figure size 500x500 with 1 Axes>"
      ]
     },
     "metadata": {},
     "output_type": "display_data"
    }
   ],
   "source": [
    "plt.figure(figsize=(5,5))\n",
    "\n",
    "for stroke in test_strokes:\n",
    "\n",
    "    xs = [x['x'] for x in stroke if x['action']!='end']\n",
    "    ys = [x['y'] for x in stroke if x['action']!='end']\n",
    "    plt.scatter(np.array(xs),550-np.array(ys))\n",
    "plt.xlim(0,550)\n",
    "plt.ylim(0,550)\n",
    "plt.title(f'pen trajectory for {sketch_df.concept[3]}'  )\n",
    "plt.show()"
   ]
  },
  {
   "cell_type": "code",
   "execution_count": 14,
   "metadata": {},
   "outputs": [
    {
     "data": {
      "image/png": "[encoded data removed]",
      "text/plain": [
       "<Figure size 500x500 with 1 Axes>"
      ]
     },
     "metadata": {},
     "output_type": "display_data"
    }
   ],
   "source": [
    "plt.figure(figsize=(5,5))\n",
    "\n",
    "for stroke in test_undos:\n",
    "\n",
    "    xs = [x['x'] for x in stroke if x['action']!='end']\n",
    "    ys = [x['y'] for x in stroke if x['action']!='end']\n",
    "    plt.scatter(np.array(xs),550-np.array(ys))\n",
    "plt.xlim(0,550)\n",
    "plt.ylim(0,550)\n",
    "plt.title(f'undo trajectory for {sketch_df.concept[3]}' )\n",
    "plt.show()\n"
   ]
  },
  {
   "cell_type": "markdown",
   "metadata": {},
   "source": [
    "### Get a snapshot of both dfs"
   ]
  },
  {
   "cell_type": "code",
   "execution_count": 25,
   "metadata": {},
   "outputs": [
    {
     "data": {
      "text/plain": [
       "(114, 19)"
      ]
     },
     "execution_count": 25,
     "metadata": {},
     "output_type": "execute_result"
    }
   ],
   "source": [
    "sketch_df.shape"
   ]
  },
  {
   "cell_type": "code",
   "execution_count": 16,
   "metadata": {},
   "outputs": [
    {
     "data": {
      "text/plain": [
       "0             bow2\n",
       "1             gear\n",
       "2           violin\n",
       "3         lunchbox\n",
       "4      sarcophagus\n",
       "          ...     \n",
       "127          spout\n",
       "128           milk\n",
       "129           lamb\n",
       "130       piecrust\n",
       "131          crank\n",
       "Name: concept, Length: 128, dtype: object"
      ]
     },
     "execution_count": 16,
     "metadata": {},
     "output_type": "execute_result"
    }
   ],
   "source": [
    "ratings_meta_df['concept']"
   ]
  },
  {
   "cell_type": "code",
   "execution_count": 17,
   "metadata": {},
   "outputs": [
    {
     "data": {
      "text/html": [
       "<div>\n",
       "<style scoped>\n",
       "    .dataframe tbody tr th:only-of-type {\n",
       "        vertical-align: middle;\n",
       "    }\n",
       "\n",
       "    .dataframe tbody tr th {\n",
       "        vertical-align: top;\n",
       "    }\n",
       "\n",
       "    .dataframe thead th {\n",
       "        text-align: right;\n",
       "    }\n",
       "</style>\n",
       "<table border=\"1\" class=\"dataframe\">\n",
       "  <thead>\n",
       "    <tr style=\"text-align: right;\">\n",
       "      <th></th>\n",
       "      <th>_id</th>\n",
       "      <th>rt</th>\n",
       "      <th>response</th>\n",
       "      <th>concept</th>\n",
       "      <th>gameID</th>\n",
       "      <th>prompt</th>\n",
       "      <th>undo_history</th>\n",
       "      <th>png</th>\n",
       "      <th>strokes</th>\n",
       "      <th>trial_type</th>\n",
       "      <th>trial_index</th>\n",
       "      <th>time_elapsed</th>\n",
       "      <th>internal_node_id</th>\n",
       "      <th>pointer_device</th>\n",
       "      <th>iterationName</th>\n",
       "      <th>recruitmentPlatform</th>\n",
       "      <th>workerID</th>\n",
       "      <th>studyID</th>\n",
       "      <th>sessionID</th>\n",
       "    </tr>\n",
       "  </thead>\n",
       "  <tbody>\n",
       "    <tr>\n",
       "      <th>0</th>\n",
       "      <td>6418a0b288da294e33e75e64</td>\n",
       "      <td>11682</td>\n",
       "      <td>button</td>\n",
       "      <td>bow2</td>\n",
       "      <td>8114-87673960-5c09-42af-8f72-680562e600e6</td>\n",
       "      <td>&lt;p style='font-size:25px;font-weight:bold;marg...</td>\n",
       "      <td>[]</td>\n",
       "      <td>data:image/png;base64,iVBORw0KGgoAAAANSUhEUgAA...</td>\n",
       "      <td>[[{'x': 310, 'y': 39, 'color': '#000000', 'act...</td>\n",
       "      <td>sketchpad</td>\n",
       "      <td>2</td>\n",
       "      <td>18442</td>\n",
       "      <td>0.0-2.0-0.0</td>\n",
       "      <td>fine</td>\n",
       "      <td>pilot_1</td>\n",
       "      <td>prolific</td>\n",
       "      <td>5efceb0f4a5f9f1079fbd048</td>\n",
       "      <td>6418a021aa930a2c4f89e031</td>\n",
       "      <td>6418a08fcbb7243a71762cf1</td>\n",
       "    </tr>\n",
       "    <tr>\n",
       "      <th>1</th>\n",
       "      <td>6418a0e088da294e33e75e66</td>\n",
       "      <td>42824</td>\n",
       "      <td>button</td>\n",
       "      <td>gear</td>\n",
       "      <td>8114-87673960-5c09-42af-8f72-680562e600e6</td>\n",
       "      <td>&lt;p style='font-size:25px;font-weight:bold;marg...</td>\n",
       "      <td>[[{'x': 246, 'y': 211, 'color': '#000000', 'ac...</td>\n",
       "      <td>data:image/png;base64,iVBORw0KGgoAAAANSUhEUgAA...</td>\n",
       "      <td>[[{'x': 265, 'y': 76, 'color': '#000000', 'act...</td>\n",
       "      <td>sketchpad</td>\n",
       "      <td>4</td>\n",
       "      <td>64605</td>\n",
       "      <td>0.0-2.0-0.1</td>\n",
       "      <td>fine</td>\n",
       "      <td>pilot_1</td>\n",
       "      <td>prolific</td>\n",
       "      <td>5efceb0f4a5f9f1079fbd048</td>\n",
       "      <td>6418a021aa930a2c4f89e031</td>\n",
       "      <td>6418a08fcbb7243a71762cf1</td>\n",
       "    </tr>\n",
       "    <tr>\n",
       "      <th>2</th>\n",
       "      <td>6418a17688da294e33e75e69</td>\n",
       "      <td>19593</td>\n",
       "      <td>button</td>\n",
       "      <td>lunchbox</td>\n",
       "      <td>8114-87673960-5c09-42af-8f72-680562e600e6</td>\n",
       "      <td>&lt;p style='font-size:25px;font-weight:bold;marg...</td>\n",
       "      <td>[]</td>\n",
       "      <td>data:image/png;base64,iVBORw0KGgoAAAANSUhEUgAA...</td>\n",
       "      <td>[[{'x': 104, 'y': 159, 'color': '#000000', 'ac...</td>\n",
       "      <td>sketchpad</td>\n",
       "      <td>8</td>\n",
       "      <td>215289</td>\n",
       "      <td>0.0-2.0-0.3</td>\n",
       "      <td>fine</td>\n",
       "      <td>pilot_1</td>\n",
       "      <td>prolific</td>\n",
       "      <td>5efceb0f4a5f9f1079fbd048</td>\n",
       "      <td>6418a021aa930a2c4f89e031</td>\n",
       "      <td>6418a08fcbb7243a71762cf1</td>\n",
       "    </tr>\n",
       "    <tr>\n",
       "      <th>3</th>\n",
       "      <td>6418a1ef88da294e33e75e6c</td>\n",
       "      <td>26042</td>\n",
       "      <td>button</td>\n",
       "      <td>mousetrap</td>\n",
       "      <td>8114-87673960-5c09-42af-8f72-680562e600e6</td>\n",
       "      <td>&lt;p style='font-size:25px;font-weight:bold;marg...</td>\n",
       "      <td>[]</td>\n",
       "      <td>data:image/png;base64,iVBORw0KGgoAAAANSUhEUgAA...</td>\n",
       "      <td>[[{'x': 178, 'y': 166, 'color': '#000000', 'ac...</td>\n",
       "      <td>sketchpad</td>\n",
       "      <td>12</td>\n",
       "      <td>335453</td>\n",
       "      <td>0.0-2.0-0.5</td>\n",
       "      <td>fine</td>\n",
       "      <td>pilot_1</td>\n",
       "      <td>prolific</td>\n",
       "      <td>5efceb0f4a5f9f1079fbd048</td>\n",
       "      <td>6418a021aa930a2c4f89e031</td>\n",
       "      <td>6418a08fcbb7243a71762cf1</td>\n",
       "    </tr>\n",
       "    <tr>\n",
       "      <th>4</th>\n",
       "      <td>6418a20388da294e33e75e6e</td>\n",
       "      <td>18808</td>\n",
       "      <td>button</td>\n",
       "      <td>rattle</td>\n",
       "      <td>8114-87673960-5c09-42af-8f72-680562e600e6</td>\n",
       "      <td>&lt;p style='font-size:25px;font-weight:bold;marg...</td>\n",
       "      <td>[]</td>\n",
       "      <td>data:image/png;base64,iVBORw0KGgoAAAANSUhEUgAA...</td>\n",
       "      <td>[[{'x': 205, 'y': 65, 'color': '#000000', 'act...</td>\n",
       "      <td>sketchpad</td>\n",
       "      <td>14</td>\n",
       "      <td>356153</td>\n",
       "      <td>0.0-2.0-0.6</td>\n",
       "      <td>fine</td>\n",
       "      <td>pilot_1</td>\n",
       "      <td>prolific</td>\n",
       "      <td>5efceb0f4a5f9f1079fbd048</td>\n",
       "      <td>6418a021aa930a2c4f89e031</td>\n",
       "      <td>6418a08fcbb7243a71762cf1</td>\n",
       "    </tr>\n",
       "  </tbody>\n",
       "</table>\n",
       "</div>"
      ],
      "text/plain": [
       "                        _id     rt response    concept  \\\n",
       "0  6418a0b288da294e33e75e64  11682   button       bow2   \n",
       "1  6418a0e088da294e33e75e66  42824   button       gear   \n",
       "2  6418a17688da294e33e75e69  19593   button   lunchbox   \n",
       "3  6418a1ef88da294e33e75e6c  26042   button  mousetrap   \n",
       "4  6418a20388da294e33e75e6e  18808   button     rattle   \n",
       "\n",
       "                                      gameID  \\\n",
       "0  8114-87673960-5c09-42af-8f72-680562e600e6   \n",
       "1  8114-87673960-5c09-42af-8f72-680562e600e6   \n",
       "2  8114-87673960-5c09-42af-8f72-680562e600e6   \n",
       "3  8114-87673960-5c09-42af-8f72-680562e600e6   \n",
       "4  8114-87673960-5c09-42af-8f72-680562e600e6   \n",
       "\n",
       "                                              prompt  \\\n",
       "0  <p style='font-size:25px;font-weight:bold;marg...   \n",
       "1  <p style='font-size:25px;font-weight:bold;marg...   \n",
       "2  <p style='font-size:25px;font-weight:bold;marg...   \n",
       "3  <p style='font-size:25px;font-weight:bold;marg...   \n",
       "4  <p style='font-size:25px;font-weight:bold;marg...   \n",
       "\n",
       "                                        undo_history  \\\n",
       "0                                                 []   \n",
       "1  [[{'x': 246, 'y': 211, 'color': '#000000', 'ac...   \n",
       "2                                                 []   \n",
       "3                                                 []   \n",
       "4                                                 []   \n",
       "\n",
       "                                                 png  \\\n",
       "0  data:image/png;base64,iVBORw0KGgoAAAANSUhEUgAA...   \n",
       "1  data:image/png;base64,iVBORw0KGgoAAAANSUhEUgAA...   \n",
       "2  data:image/png;base64,iVBORw0KGgoAAAANSUhEUgAA...   \n",
       "3  data:image/png;base64,iVBORw0KGgoAAAANSUhEUgAA...   \n",
       "4  data:image/png;base64,iVBORw0KGgoAAAANSUhEUgAA...   \n",
       "\n",
       "                                             strokes trial_type  trial_index  \\\n",
       "0  [[{'x': 310, 'y': 39, 'color': '#000000', 'act...  sketchpad            2   \n",
       "1  [[{'x': 265, 'y': 76, 'color': '#000000', 'act...  sketchpad            4   \n",
       "2  [[{'x': 104, 'y': 159, 'color': '#000000', 'ac...  sketchpad            8   \n",
       "3  [[{'x': 178, 'y': 166, 'color': '#000000', 'ac...  sketchpad           12   \n",
       "4  [[{'x': 205, 'y': 65, 'color': '#000000', 'act...  sketchpad           14   \n",
       "\n",
       "   time_elapsed internal_node_id pointer_device iterationName  \\\n",
       "0         18442      0.0-2.0-0.0           fine       pilot_1   \n",
       "1         64605      0.0-2.0-0.1           fine       pilot_1   \n",
       "2        215289      0.0-2.0-0.3           fine       pilot_1   \n",
       "3        335453      0.0-2.0-0.5           fine       pilot_1   \n",
       "4        356153      0.0-2.0-0.6           fine       pilot_1   \n",
       "\n",
       "  recruitmentPlatform                  workerID                   studyID  \\\n",
       "0            prolific  5efceb0f4a5f9f1079fbd048  6418a021aa930a2c4f89e031   \n",
       "1            prolific  5efceb0f4a5f9f1079fbd048  6418a021aa930a2c4f89e031   \n",
       "2            prolific  5efceb0f4a5f9f1079fbd048  6418a021aa930a2c4f89e031   \n",
       "3            prolific  5efceb0f4a5f9f1079fbd048  6418a021aa930a2c4f89e031   \n",
       "4            prolific  5efceb0f4a5f9f1079fbd048  6418a021aa930a2c4f89e031   \n",
       "\n",
       "                  sessionID  \n",
       "0  6418a08fcbb7243a71762cf1  \n",
       "1  6418a08fcbb7243a71762cf1  \n",
       "2  6418a08fcbb7243a71762cf1  \n",
       "3  6418a08fcbb7243a71762cf1  \n",
       "4  6418a08fcbb7243a71762cf1  "
      ]
     },
     "execution_count": 17,
     "metadata": {},
     "output_type": "execute_result"
    }
   ],
   "source": [
    "sketch_df.head()"
   ]
  },
  {
   "cell_type": "code",
   "execution_count": 18,
   "metadata": {
    "scrolled": true
   },
   "outputs": [
    {
     "data": {
      "text/plain": [
       "0           bow2\n",
       "1           gear\n",
       "2       lunchbox\n",
       "3      mousetrap\n",
       "4         rattle\n",
       "         ...    \n",
       "109        spout\n",
       "110         milk\n",
       "111         lamb\n",
       "112     piecrust\n",
       "113        crank\n",
       "Name: concept, Length: 114, dtype: object"
      ]
     },
     "execution_count": 18,
     "metadata": {},
     "output_type": "execute_result"
    }
   ],
   "source": [
    "sketch_df['concept']"
   ]
  },
  {
   "cell_type": "code",
   "execution_count": 19,
   "metadata": {},
   "outputs": [
    {
     "data": {
      "text/plain": [
       "False"
      ]
     },
     "execution_count": 19,
     "metadata": {},
     "output_type": "execute_result"
    }
   ],
   "source": [
    "sorted(sketch_df['concept']) == sorted(ratings_meta_df['concept'])"
   ]
  },
  {
   "cell_type": "code",
   "execution_count": 20,
   "metadata": {},
   "outputs": [
    {
     "data": {
      "text/plain": [
       "128"
      ]
     },
     "execution_count": 20,
     "metadata": {},
     "output_type": "execute_result"
    }
   ],
   "source": [
    "list1 = list(sorted(ratings_meta_df['concept']))\n",
    "len(list1)"
   ]
  },
  {
   "cell_type": "code",
   "execution_count": 21,
   "metadata": {},
   "outputs": [
    {
     "data": {
      "text/plain": [
       "114"
      ]
     },
     "execution_count": 21,
     "metadata": {},
     "output_type": "execute_result"
    }
   ],
   "source": [
    "list2 = list(sorted(sketch_df['concept']))\n",
    "len(list2)"
   ]
  },
  {
   "cell_type": "code",
   "execution_count": 260,
   "metadata": {},
   "outputs": [
    {
     "data": {
      "text/plain": [
       "{'breakfast',\n",
       " 'caterpillar',\n",
       " 'cougar',\n",
       " 'eyedropper',\n",
       " 'lumber',\n",
       " 'sarcophagus',\n",
       " 'sauerkraut',\n",
       " 'scanner',\n",
       " 'seaweed',\n",
       " 'space_shuttle',\n",
       " 'speedometer',\n",
       " 'telephone_pole',\n",
       " 'toilet_paper',\n",
       " 'violin'}"
      ]
     },
     "execution_count": 260,
     "metadata": {},
     "output_type": "execute_result"
    }
   ],
   "source": [
    "(set(list1).difference(list2))"
   ]
  },
  {
   "cell_type": "markdown",
   "metadata": {},
   "source": [
    "## ☢️ Careful here ☢️"
   ]
  },
  {
   "cell_type": "code",
   "execution_count": 91,
   "metadata": {},
   "outputs": [],
   "source": [
    "# really_run=False\n",
    "# if really_run==True:\n",
    "#     db.drop_collection('things-1854_production_run')"
   ]
  },
  {
   "cell_type": "code",
   "execution_count": null,
   "metadata": {},
   "outputs": [],
   "source": []
  },
  {
   "cell_type": "code",
   "execution_count": null,
   "metadata": {},
   "outputs": [],
   "source": []
  },
  {
   "cell_type": "code",
   "execution_count": null,
   "metadata": {},
   "outputs": [],
   "source": []
  },
  {
   "cell_type": "code",
   "execution_count": null,
   "metadata": {},
   "outputs": [],
   "source": []
  }
 ],
 "metadata": {
  "kernelspec": {
   "display_name": "sketch_models",
   "language": "python",
   "name": "python3"
  },
  "language_info": {
   "codemirror_mode": {
    "name": "ipython",
    "version": 3
   },
   "file_extension": ".py",
   "mimetype": "text/x-python",
   "name": "python",
   "nbconvert_exporter": "python",
   "pygments_lexer": "ipython3",
   "version": "3.8.13"
  }
 },
 "nbformat": 4,
 "nbformat_minor": 2
}
