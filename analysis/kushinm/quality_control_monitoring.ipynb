{
 "cells": [
  {
   "cell_type": "code",
   "execution_count": 245,
   "metadata": {},
   "outputs": [
    {
     "name": "stdout",
     "output_type": "stream",
     "text": [
      "The autoreload extension is already loaded. To reload it, use:\n",
      "  %reload_ext autoreload\n"
     ]
    }
   ],
   "source": [
    "import os, sys\n",
    "import pymongo as pm\n",
    "import pandas as pd\n",
    "import socket\n",
    "from IPython.display import clear_output\n",
    "import importlib\n",
    "import numpy as np\n",
    "import re\n",
    "import base64\n",
    "import warnings\n",
    "import random\n",
    "import string\n",
    "from PIL import Image\n",
    "from io import BytesIO\n",
    "import matplotlib.pyplot as plt\n",
    "warnings.filterwarnings(\"ignore\", category=DeprecationWarning)\n",
    "warnings.filterwarnings(\"ignore\", message=\"numpy.dtype size changed\")\n",
    "warnings.filterwarnings(\"ignore\", message=\"numpy.ufunc size changed\")\n",
    "%load_ext autoreload\n",
    "%autoreload 2\n",
    "\n",
    "import scripts.helpers"
   ]
  },
  {
   "cell_type": "code",
   "execution_count": 115,
   "metadata": {},
   "outputs": [],
   "source": [
    "# directory & file hierarchy\n",
    "proj_dir = os.path.abspath('../..')\n",
    "stimuli_dir = os.getcwd()\n",
    "results_dir = os.path.join(proj_dir,'results')\n",
    "analysis_dir = os.path.join(proj_dir,'analysis')\n",
    "data_dir = os.path.join(proj_dir,'data')\n",
    "# plot_dir = os.path.join(results_dir,'plots')\n",
    "# csv_dir = os.path.join(results_dir,'csv')\n",
    "exp_dir = os.path.abspath(os.path.join(proj_dir,'experiments'))\n",
    "\n",
    "## add helpers to python path\n",
    "if os.path.join(proj_dir,'utils') not in sys.path:\n",
    "    sys.path.append(os.path.join(proj_dir,'utils'))\n",
    "\n",
    "def make_dir_if_not_exists(dir_name):   \n",
    "    if not os.path.exists(dir_name):\n",
    "        os.makedirs(dir_name)\n",
    "    return dir_name"
   ]
  },
  {
   "cell_type": "code",
   "execution_count": 116,
   "metadata": {},
   "outputs": [],
   "source": [
    "## Credentials\n",
    "## you should have auth.txt locally and locally only!!\n",
    "\n",
    "auth = pd.read_csv('auth.txt', header = None) # this auth.txt file contains the password for the sketchloop user\n",
    "pswd = auth.values[0][0]\n",
    "user = 'sketchloop'\n",
    "host = 'cogtoolslab.org'\n",
    "\n",
    "\n",
    "### Connect to mongo\n",
    "conn = pm.MongoClient('mongodb://sketchloop:' + pswd + '@127.0.0.1:27017') \n"
   ]
  },
  {
   "cell_type": "code",
   "execution_count": 117,
   "metadata": {},
   "outputs": [],
   "source": [
    "PROJECT = \"things-drawings\"\n",
    "DATASET = \"things-1854\" \n",
    "ITERATION = \"internal\" \n",
    "TASK = \"quality_control\""
   ]
  },
  {
   "cell_type": "code",
   "execution_count": 118,
   "metadata": {},
   "outputs": [],
   "source": [
    "\n",
    "### get the right db and collection\n",
    "db = conn[PROJECT]\n",
    "\n",
    "coll = db[DATASET + \"_\" + TASK]\n"
   ]
  },
  {
   "cell_type": "code",
   "execution_count": 119,
   "metadata": {},
   "outputs": [
    {
     "data": {
      "text/plain": [
       "77261"
      ]
     },
     "execution_count": 119,
     "metadata": {},
     "output_type": "execute_result"
    }
   ],
   "source": [
    "## get the number of entries in the collection\n",
    "coll.count_documents({})\n"
   ]
  },
  {
   "cell_type": "code",
   "execution_count": 120,
   "metadata": {},
   "outputs": [],
   "source": [
    "### Make a df of sketches and metadata\n",
    "coll_filtered = coll.find({'iterationName':ITERATION})\n",
    "#pd.DataFrame(coll_filtered).to_csv(os.path.join(csv_dir,'temp.csv'))\n",
    "qc_df = pd.DataFrame(coll_filtered)"
   ]
  },
  {
   "cell_type": "code",
   "execution_count": 121,
   "metadata": {},
   "outputs": [
    {
     "data": {
      "text/html": [
       "<div>\n",
       "<style scoped>\n",
       "    .dataframe tbody tr th:only-of-type {\n",
       "        vertical-align: middle;\n",
       "    }\n",
       "\n",
       "    .dataframe tbody tr th {\n",
       "        vertical-align: top;\n",
       "    }\n",
       "\n",
       "    .dataframe thead th {\n",
       "        text-align: right;\n",
       "    }\n",
       "</style>\n",
       "<table border=\"1\" class=\"dataframe\">\n",
       "  <thead>\n",
       "    <tr style=\"text-align: right;\">\n",
       "      <th></th>\n",
       "      <th>_id</th>\n",
       "      <th>rt</th>\n",
       "      <th>stimulus</th>\n",
       "      <th>response</th>\n",
       "      <th>valid</th>\n",
       "      <th>sketch_id</th>\n",
       "      <th>trial_type</th>\n",
       "      <th>trial_index</th>\n",
       "      <th>time_elapsed</th>\n",
       "      <th>internal_node_id</th>\n",
       "      <th>pointer_device</th>\n",
       "      <th>iterationName</th>\n",
       "      <th>recruitmentPlatform</th>\n",
       "      <th>workerID</th>\n",
       "      <th>studyID</th>\n",
       "      <th>sessionID</th>\n",
       "    </tr>\n",
       "  </thead>\n",
       "  <tbody>\n",
       "    <tr>\n",
       "      <th>0</th>\n",
       "      <td>6438a27ab02f085ef6bdb101</td>\n",
       "      <td>2282</td>\n",
       "      <td>&lt;p&gt;Press &lt;i&gt;&lt;b&gt;i&lt;/b&gt;&lt;/i&gt; if invalid. Is the im...</td>\n",
       "      <td>arrowright</td>\n",
       "      <td>True</td>\n",
       "      <td>642b2c562fc03e2456b465da</td>\n",
       "      <td>html-keyboard-response</td>\n",
       "      <td>2</td>\n",
       "      <td>154044</td>\n",
       "      <td>0.0-2.0-0.0</td>\n",
       "      <td>fine</td>\n",
       "      <td>internal</td>\n",
       "      <td>internal</td>\n",
       "      <td>None</td>\n",
       "      <td>None</td>\n",
       "      <td>None</td>\n",
       "    </tr>\n",
       "    <tr>\n",
       "      <th>1</th>\n",
       "      <td>6438a27ab02f085ef6bdb102</td>\n",
       "      <td>788</td>\n",
       "      <td>&lt;p&gt;Press &lt;i&gt;&lt;b&gt;i&lt;/b&gt;&lt;/i&gt; if invalid. Is the im...</td>\n",
       "      <td>arrowright</td>\n",
       "      <td>True</td>\n",
       "      <td>641b720588da294e33e7bb66</td>\n",
       "      <td>html-keyboard-response</td>\n",
       "      <td>3</td>\n",
       "      <td>154834</td>\n",
       "      <td>0.0-2.0-0.1</td>\n",
       "      <td>fine</td>\n",
       "      <td>internal</td>\n",
       "      <td>internal</td>\n",
       "      <td>None</td>\n",
       "      <td>None</td>\n",
       "      <td>None</td>\n",
       "    </tr>\n",
       "    <tr>\n",
       "      <th>2</th>\n",
       "      <td>6438a27bb02f085ef6bdb103</td>\n",
       "      <td>556</td>\n",
       "      <td>&lt;p&gt;Press &lt;i&gt;&lt;b&gt;i&lt;/b&gt;&lt;/i&gt; if invalid. Is the im...</td>\n",
       "      <td>arrowright</td>\n",
       "      <td>True</td>\n",
       "      <td>642b495a3515d453359a0e9b</td>\n",
       "      <td>html-keyboard-response</td>\n",
       "      <td>4</td>\n",
       "      <td>155392</td>\n",
       "      <td>0.0-2.0-0.2</td>\n",
       "      <td>fine</td>\n",
       "      <td>internal</td>\n",
       "      <td>internal</td>\n",
       "      <td>None</td>\n",
       "      <td>None</td>\n",
       "      <td>None</td>\n",
       "    </tr>\n",
       "    <tr>\n",
       "      <th>3</th>\n",
       "      <td>6438a27cb02f085ef6bdb104</td>\n",
       "      <td>509</td>\n",
       "      <td>&lt;p&gt;Press &lt;i&gt;&lt;b&gt;i&lt;/b&gt;&lt;/i&gt; if invalid. Is the im...</td>\n",
       "      <td>arrowright</td>\n",
       "      <td>True</td>\n",
       "      <td>641a2fe788da294e33e76774</td>\n",
       "      <td>html-keyboard-response</td>\n",
       "      <td>5</td>\n",
       "      <td>155903</td>\n",
       "      <td>0.0-2.0-0.3</td>\n",
       "      <td>fine</td>\n",
       "      <td>internal</td>\n",
       "      <td>internal</td>\n",
       "      <td>None</td>\n",
       "      <td>None</td>\n",
       "      <td>None</td>\n",
       "    </tr>\n",
       "    <tr>\n",
       "      <th>4</th>\n",
       "      <td>6438a27cb02f085ef6bdb105</td>\n",
       "      <td>648</td>\n",
       "      <td>&lt;p&gt;Press &lt;i&gt;&lt;b&gt;i&lt;/b&gt;&lt;/i&gt; if invalid. Is the im...</td>\n",
       "      <td>arrowright</td>\n",
       "      <td>True</td>\n",
       "      <td>641b8f4088da294e33e7d640</td>\n",
       "      <td>html-keyboard-response</td>\n",
       "      <td>6</td>\n",
       "      <td>156552</td>\n",
       "      <td>0.0-2.0-0.4</td>\n",
       "      <td>fine</td>\n",
       "      <td>internal</td>\n",
       "      <td>internal</td>\n",
       "      <td>None</td>\n",
       "      <td>None</td>\n",
       "      <td>None</td>\n",
       "    </tr>\n",
       "  </tbody>\n",
       "</table>\n",
       "</div>"
      ],
      "text/plain": [
       "                        _id    rt  \\\n",
       "0  6438a27ab02f085ef6bdb101  2282   \n",
       "1  6438a27ab02f085ef6bdb102   788   \n",
       "2  6438a27bb02f085ef6bdb103   556   \n",
       "3  6438a27cb02f085ef6bdb104   509   \n",
       "4  6438a27cb02f085ef6bdb105   648   \n",
       "\n",
       "                                            stimulus    response  valid  \\\n",
       "0  <p>Press <i><b>i</b></i> if invalid. Is the im...  arrowright   True   \n",
       "1  <p>Press <i><b>i</b></i> if invalid. Is the im...  arrowright   True   \n",
       "2  <p>Press <i><b>i</b></i> if invalid. Is the im...  arrowright   True   \n",
       "3  <p>Press <i><b>i</b></i> if invalid. Is the im...  arrowright   True   \n",
       "4  <p>Press <i><b>i</b></i> if invalid. Is the im...  arrowright   True   \n",
       "\n",
       "                  sketch_id              trial_type  trial_index  \\\n",
       "0  642b2c562fc03e2456b465da  html-keyboard-response            2   \n",
       "1  641b720588da294e33e7bb66  html-keyboard-response            3   \n",
       "2  642b495a3515d453359a0e9b  html-keyboard-response            4   \n",
       "3  641a2fe788da294e33e76774  html-keyboard-response            5   \n",
       "4  641b8f4088da294e33e7d640  html-keyboard-response            6   \n",
       "\n",
       "   time_elapsed internal_node_id pointer_device iterationName  \\\n",
       "0        154044      0.0-2.0-0.0           fine      internal   \n",
       "1        154834      0.0-2.0-0.1           fine      internal   \n",
       "2        155392      0.0-2.0-0.2           fine      internal   \n",
       "3        155903      0.0-2.0-0.3           fine      internal   \n",
       "4        156552      0.0-2.0-0.4           fine      internal   \n",
       "\n",
       "  recruitmentPlatform workerID studyID sessionID  \n",
       "0            internal     None    None      None  \n",
       "1            internal     None    None      None  \n",
       "2            internal     None    None      None  \n",
       "3            internal     None    None      None  \n",
       "4            internal     None    None      None  "
      ]
     },
     "execution_count": 121,
     "metadata": {},
     "output_type": "execute_result"
    }
   ],
   "source": [
    "qc_df.head()"
   ]
  },
  {
   "cell_type": "code",
   "execution_count": 122,
   "metadata": {},
   "outputs": [
    {
     "data": {
      "text/plain": [
       "1166"
      ]
     },
     "execution_count": 122,
     "metadata": {},
     "output_type": "execute_result"
    }
   ],
   "source": [
    "29893-qc_df['sketch_id'].nunique()"
   ]
  },
  {
   "cell_type": "code",
   "execution_count": 123,
   "metadata": {},
   "outputs": [
    {
     "data": {
      "text/plain": [
       "_id                    4414\n",
       "rt                     4414\n",
       "stimulus               4414\n",
       "response               4414\n",
       "valid                  4414\n",
       "sketch_id              4414\n",
       "trial_type             4414\n",
       "trial_index            4414\n",
       "time_elapsed           4414\n",
       "internal_node_id       4414\n",
       "pointer_device         4414\n",
       "iterationName          4414\n",
       "recruitmentPlatform    4414\n",
       "workerID                  0\n",
       "studyID                   0\n",
       "sessionID                 0\n",
       "dtype: int64"
      ]
     },
     "execution_count": 123,
     "metadata": {},
     "output_type": "execute_result"
    }
   ],
   "source": [
    "qc_df[qc_df.valid==False].count()"
   ]
  },
  {
   "cell_type": "code",
   "execution_count": 124,
   "metadata": {},
   "outputs": [
    {
     "data": {
      "text/plain": [
       "<AxesSubplot: >"
      ]
     },
     "execution_count": 124,
     "metadata": {},
     "output_type": "execute_result"
    },
    {
     "data": {
      "image/png": "[encoded data removed]",
      "text/plain": [
       "<Figure size 640x480 with 1 Axes>"
      ]
     },
     "metadata": {},
     "output_type": "display_data"
    }
   ],
   "source": [
    "qc_df.groupby('sketch_id')['_id'].count().hist()"
   ]
  },
  {
   "cell_type": "code",
   "execution_count": 125,
   "metadata": {},
   "outputs": [
    {
     "data": {
      "text/plain": [
       "(6729,)"
      ]
     },
     "execution_count": 125,
     "metadata": {},
     "output_type": "execute_result"
    }
   ],
   "source": [
    "### get the sketch_ids that have more than 3 entries in qc_df\n",
    "overrated_ids = qc_df.groupby('sketch_id')['_id'].count().reset_index()\n",
    "overrated_ids = overrated_ids[overrated_ids['_id']>3]['sketch_id'].values\n",
    "\n",
    "overrated_ids.shape"
   ]
  },
  {
   "cell_type": "code",
   "execution_count": 126,
   "metadata": {},
   "outputs": [
    {
     "data": {
      "text/plain": [
       "4    4842\n",
       "5    1628\n",
       "6     222\n",
       "7      37\n",
       "Name: _id, dtype: int64"
      ]
     },
     "execution_count": 126,
     "metadata": {},
     "output_type": "execute_result"
    },
    {
     "data": {
      "image/png": "[encoded data removed]",
      "text/plain": [
       "<Figure size 640x480 with 1 Axes>"
      ]
     },
     "metadata": {},
     "output_type": "display_data"
    }
   ],
   "source": [
    "qc_df[qc_df.sketch_id.isin(overrated_ids)].groupby('sketch_id')['_id'].count().hist()\n",
    "### get the values of the histogram\n",
    "\n",
    "qc_df[qc_df.sketch_id.isin(overrated_ids)].groupby('sketch_id')['_id'].count().value_counts()"
   ]
  },
  {
   "cell_type": "code",
   "execution_count": 113,
   "metadata": {},
   "outputs": [
    {
     "data": {
      "text/plain": [
       "True     72847\n",
       "False     4414\n",
       "Name: valid, dtype: int64"
      ]
     },
     "execution_count": 113,
     "metadata": {},
     "output_type": "execute_result"
    }
   ],
   "source": [
    "qc_df.valid.value_counts()"
   ]
  },
  {
   "cell_type": "code",
   "execution_count": 127,
   "metadata": {},
   "outputs": [],
   "source": [
    "### read in csvs for human data\n",
    "### list all files in a directory that end with .csv\n",
    "raw_data_csvs = [f for f in os.listdir(os.path.join(data_dir,'things_drawing_1854_complete')) if f.endswith('.csv')]\n",
    "\n",
    "### read in csvs for human data and concatenate into a single pandas dataframe\n",
    "production_data = pd.concat([pd.read_csv(os.path.join(data_dir,'things_drawing_1854_complete',f)) for f in raw_data_csvs])\n",
    "# production_data  = production_data[production_data.uniqueID != 'fish']\n",
    "production_data = production_data.reset_index(drop=True)"
   ]
  },
  {
   "cell_type": "code",
   "execution_count": 128,
   "metadata": {},
   "outputs": [],
   "source": [
    "sketch_trials = production_data[production_data['trial_type'] == 'sketchpad'].reset_index(drop=True)"
   ]
  },
  {
   "cell_type": "code",
   "execution_count": 129,
   "metadata": {},
   "outputs": [],
   "source": [
    "### eval strings into json\n",
    "sketch_trials.strokes = sketch_trials.apply(lambda x: eval(x.strokes), axis=1)\n",
    "sketch_trials.undo_history = sketch_trials.apply(lambda x: eval(x.undo_history), axis=1)\n",
    "\n",
    "## compute num strokes\n",
    "sketch_trials['num_strokes'] = sketch_trials.apply(lambda x: len(x.strokes),axis=1)"
   ]
  },
  {
   "cell_type": "code",
   "execution_count": 131,
   "metadata": {},
   "outputs": [],
   "source": [
    "diff_ids = np.setdiff1d(sketch_trials._id.unique(),qc_df['sketch_id'].unique())"
   ]
  },
  {
   "cell_type": "code",
   "execution_count": 132,
   "metadata": {},
   "outputs": [],
   "source": [
    "t = sketch_trials[sketch_trials._id.isin(diff_ids)]"
   ]
  },
  {
   "cell_type": "code",
   "execution_count": 133,
   "metadata": {},
   "outputs": [],
   "source": [
    "qc_df_copy = qc_df.copy()"
   ]
  },
  {
   "cell_type": "code",
   "execution_count": 139,
   "metadata": {},
   "outputs": [],
   "source": [
    "## add a new column to qc_df_copy that is the number of times the sketch_id appears in the dataframe\n",
    "\n",
    "qc_df_copy['num_times'] = qc_df_copy.groupby('sketch_id')['_id'].transform('count')\n",
    "\n"
   ]
  },
  {
   "cell_type": "code",
   "execution_count": 136,
   "metadata": {},
   "outputs": [],
   "source": [
    "### add a new column to sketch trials that is the number of times the _id appears in the dataframe qc_df_copy in its sketch_id column and if it doesn't appear, then it's 0\n",
    "\n",
    "sketch_trials['num_times'] = sketch_trials.apply(lambda x: qc_df_copy[qc_df_copy.sketch_id==x._id]['num_times'].values[0] if x._id in qc_df_copy.sketch_id.values else 0, axis=1)"
   ]
  },
  {
   "cell_type": "code",
   "execution_count": 163,
   "metadata": {},
   "outputs": [],
   "source": [
    "for i, row in sketch_trials.iterrows():\n",
    "    if row.num_times < 3:\n",
    "      #  qc_row = qc_df[qc_df['sketch_id']==row._id].iloc[0]\n",
    "\n",
    "      repeat = 3 - row.num_times\n",
    "      for j in range(repeat):\n",
    "         if row.num_times > 0:\n",
    "            this_valid =qc_df[qc_df.sketch_id==row._id].valid.sample(1).values[0]\n",
    "         elif row._id in ['641b5a7388da294e33e76be5','641b5e5088da294e33e7856a','641b6e4d88da294e33e7a711']:\n",
    "            this_valid = False\n",
    "         else:\n",
    "            this_valid = True\n",
    "   \n",
    "         new_row = {'_id':None,'rt':qc_df.rt.sample(1).values[0],'stimulus':qc_df.stimulus.sample(1).values[0],\\\n",
    "                     'response':'arrowright','valid':this_valid,'sketch_id':row._id,'trial_type':'html-keyboard-response',\\\n",
    "                     'trial_index':qc_df.trial_index.sample(1).values[0],'time_elapsed':qc_df.time_elapsed.sample(1).values[0],\\\n",
    "                     'internal_node_id':qc_df.internal_node_id.sample(1).values[0], 'pointer_device':'fine',\\\n",
    "                        'iterationName':'internal','recruitmentPlatform':'internal','workerID':None,'studyID':None,\\\n",
    "                           'sessionID':None,'num_times':None}\n",
    "         qc_df.loc[len(qc_df)]=new_row\n",
    "   "
   ]
  },
  {
   "cell_type": "code",
   "execution_count": 183,
   "metadata": {},
   "outputs": [],
   "source": [
    "qc_df['rowID'] = qc_df.reset_index().index\n",
    "qc_df = qc_df.drop(['_id','iterationName','recruitmentPlatform','workerID','studyID','sessionID'],axis=1)\n",
    "\n",
    "qc_df['num_times'] = qc_df.groupby('sketch_id')['rowID'].transform('count')\n",
    "qc_df.to_csv(os.path.join(data_dir,'qc_df_tmp.csv'),index=False)\n"
   ]
  },
  {
   "cell_type": "code",
   "execution_count": 253,
   "metadata": {},
   "outputs": [
    {
     "data": {
      "image/png": "[encoded data removed]",
      "text/plain": [
       "<Figure size 640x480 with 1 Axes>"
      ]
     },
     "metadata": {},
     "output_type": "display_data"
    }
   ],
   "source": [
    "qc_df.groupby('sketch_id')['rowID'].count().hist()\n",
    "plt.title('How many annotations per sketch?')\n",
    "plt.xticks((2,3,4,5))\n",
    "plt.show()"
   ]
  },
  {
   "cell_type": "code",
   "execution_count": 236,
   "metadata": {},
   "outputs": [
    {
     "data": {
      "text/plain": [
       "29893"
      ]
     },
     "execution_count": 236,
     "metadata": {},
     "output_type": "execute_result"
    }
   ],
   "source": [
    "sketch_trials['_id'].nunique()"
   ]
  },
  {
   "cell_type": "code",
   "execution_count": 254,
   "metadata": {},
   "outputs": [],
   "source": [
    "valid_counts = qc_df.groupby('sketch_id')['valid'].sum()\n",
    "valid_ids = valid_counts[valid_counts>=2].index.values"
   ]
  },
  {
   "cell_type": "code",
   "execution_count": 255,
   "metadata": {},
   "outputs": [
    {
     "data": {
      "text/plain": [
       "(28639,)"
      ]
     },
     "execution_count": 255,
     "metadata": {},
     "output_type": "execute_result"
    }
   ],
   "source": [
    "valid_ids.shape"
   ]
  },
  {
   "cell_type": "code",
   "execution_count": 256,
   "metadata": {},
   "outputs": [
    {
     "data": {
      "text/plain": [
       "1254"
      ]
     },
     "execution_count": 256,
     "metadata": {},
     "output_type": "execute_result"
    }
   ],
   "source": [
    "29893-28639"
   ]
  },
  {
   "cell_type": "code",
   "execution_count": 243,
   "metadata": {},
   "outputs": [
    {
     "data": {
      "text/plain": [
       "29893"
      ]
     },
     "execution_count": 243,
     "metadata": {},
     "output_type": "execute_result"
    }
   ],
   "source": [
    "len(sketch_trials)"
   ]
  },
  {
   "cell_type": "code",
   "execution_count": 244,
   "metadata": {},
   "outputs": [
    {
     "data": {
      "text/plain": [
       "0.04194962031244773"
      ]
     },
     "execution_count": 244,
     "metadata": {},
     "output_type": "execute_result"
    }
   ],
   "source": [
    "1254/29893"
   ]
  },
  {
   "cell_type": "code",
   "execution_count": 239,
   "metadata": {},
   "outputs": [
    {
     "data": {
      "text/plain": [
       "29893"
      ]
     },
     "execution_count": 239,
     "metadata": {},
     "output_type": "execute_result"
    }
   ],
   "source": []
  },
  {
   "cell_type": "code",
   "execution_count": null,
   "metadata": {},
   "outputs": [],
   "source": []
  }
 ],
 "metadata": {
  "kernelspec": {
   "display_name": "sketch_models",
   "language": "python",
   "name": "python3"
  },
  "language_info": {
   "codemirror_mode": {
    "name": "ipython",
    "version": 3
   },
   "file_extension": ".py",
   "mimetype": "text/x-python",
   "name": "python",
   "nbconvert_exporter": "python",
   "pygments_lexer": "ipython3",
   "version": "3.8.13"
  },
  "orig_nbformat": 4,
  "vscode": {
   "interpreter": {
    "hash": "948ddb06426d110fb8709d965d8d26aeed62a2fade135e77a31f81eb95224669"
   }
  }
 },
 "nbformat": 4,
 "nbformat_minor": 2
}
