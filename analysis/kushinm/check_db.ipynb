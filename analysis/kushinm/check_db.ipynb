{
 "cells": [
  {
   "cell_type": "code",
   "execution_count": 1,
   "metadata": {},
   "outputs": [],
   "source": [
    "import os, sys\n",
    "\n",
    "import pymongo as pm\n",
    "import base64\n",
    "import numpy as np\n",
    "import scipy.stats as stats\n",
    "import pandas as pd\n",
    "import json\n",
    "import socket\n",
    "import io\n",
    "\n",
    "from PIL import Image\n",
    "import matplotlib.pyplot as plt\n",
    "from mpl_toolkits.axes_grid1 import ImageGrid\n",
    "import matplotlib.image as mpimg\n",
    "%matplotlib inline\n",
    "from IPython.core.pylabtools import figsize, getfigs\n",
    "import seaborn as sns\n",
    "sns.set_context('talk')\n",
    "sns.set_style('white')\n",
    "from IPython.display import clear_output\n",
    "\n",
    "import warnings\n",
    "warnings.filterwarnings(\"ignore\", category=DeprecationWarning)\n",
    "warnings.filterwarnings(\"ignore\", message=\"numpy.dtype size changed\")\n",
    "warnings.filterwarnings(\"ignore\", message=\"numpy.ufunc size changed\")\n",
    "%load_ext autoreload\n",
    "%autoreload 2"
   ]
  },
  {
   "cell_type": "markdown",
   "metadata": {},
   "source": [
    "### Directory & file hierarchy"
   ]
  },
  {
   "cell_type": "code",
   "execution_count": 2,
   "metadata": {},
   "outputs": [
    {
     "data": {
      "text/plain": [
       "['/Users/kushinm/Documents/Github/things-drawings/results',\n",
       " '/Users/kushinm/Documents/Github/things-drawings/results/plots',\n",
       " '/Users/kushinm/Documents/Github/things-drawings/results/csv']"
      ]
     },
     "execution_count": 2,
     "metadata": {},
     "output_type": "execute_result"
    }
   ],
   "source": [
    "\n",
    "proj_dir = os.path.abspath('../..')\n",
    "analysis_dir = os.getcwd()\n",
    "results_dir = os.path.join(proj_dir,'results')\n",
    "plot_dir = os.path.join(results_dir,'plots')\n",
    "csv_dir = os.path.join(results_dir,'csv')\n",
    "exp_dir = os.path.abspath(os.path.join(proj_dir,'experiments'))\n",
    "\n",
    "## add helpers to python path\n",
    "if os.path.join(proj_dir,'utils') not in sys.path:\n",
    "    sys.path.append(os.path.join(proj_dir,'utils'))\n",
    "\n",
    "def make_dir_if_not_exists(dir_name):   \n",
    "    if not os.path.exists(dir_name):\n",
    "        os.makedirs(dir_name)\n",
    "    return dir_name\n",
    "\n",
    "## create directories that don't already exist        \n",
    "[make_dir_if_not_exists(x) for x in [results_dir,plot_dir,csv_dir]]"
   ]
  },
  {
   "cell_type": "markdown",
   "metadata": {},
   "source": [
    "### Quick helpers"
   ]
  },
  {
   "cell_type": "code",
   "execution_count": 3,
   "metadata": {},
   "outputs": [],
   "source": [
    "## transsform base64 png string to image for plotting\n",
    "def string_to_image(im_string):\n",
    "    im = io.BytesIO(base64.decodebytes(str.encode(im_string.split(',')[1])))\n",
    "    im = mpimg.imread(im, format='PNG')\n",
    "    return im\n",
    "\n",
    "\n",
    "### function to plot a grid of sketches\n",
    "\n",
    "def plot_image_grid(concept,dim):\n",
    "\n",
    "    im_arr = sketch_df[sketch_df.concept==concept].png_array\n",
    "    if im_arr.shape[0]<dim:\n",
    "        dim = im_arr.shape[0]\n",
    "    \n",
    "    fig = plt.figure(figsize=(dim*1.5, 2))\n",
    "    grid = ImageGrid(fig, 111, \n",
    "                    nrows_ncols=(1, dim),  # creates 2x2 grid of axes\n",
    "                    axes_pad=0.1,  # pad between axes\n",
    "                    )\n",
    "\n",
    "    for ax, im in zip(grid, im_arr):\n",
    "        ax.imshow(im)\n",
    "        ax.get_yaxis().set_ticks([])\n",
    "        ax.get_xaxis().set_ticks([])\n",
    "    fig.suptitle(f'THINGS-100 {concept}', fontsize=16)\n",
    "\n",
    "\n",
    "    plt.show()\n"
   ]
  },
  {
   "cell_type": "markdown",
   "metadata": {},
   "source": [
    "### Set up connetion to mongo\n",
    "#### Ignore the next few cells if loading data locally and go the 'Load data locally' part of the notebook\n",
    "Don't forget to `ssh -fNL 27017:127.0.0.1:27017` \\\n",
    "auth.txt should be in your local repository"
   ]
  },
  {
   "cell_type": "code",
   "execution_count": 4,
   "metadata": {},
   "outputs": [],
   "source": [
    "PROJECT = \"things-drawings\"\n",
    "DATASET = \"things-100\"\n",
    "TASK = \"\"\n",
    "ITERATION = \"pilot_0\"\n",
    "#EXPERIMENT = DATASET + \"_\" + TASK\n",
    "EXPERIMENT = DATASET "
   ]
  },
  {
   "cell_type": "code",
   "execution_count": 5,
   "metadata": {},
   "outputs": [],
   "source": [
    "### set up credentials\n",
    "\n",
    "auth = pd.read_csv(os.path.join(analysis_dir,'auth.txt'), header = None) # this auth.txt file contains the password for the sketchloop user\n",
    "pswd = auth.values[0][0]\n",
    "user = 'sketchloop'\n",
    "host = 'cogtoolslab.org'\n",
    "\n",
    "conn = pm.MongoClient('mongodb://sketchloop:' + pswd + '@127.0.0.1:27017')\n",
    "db = conn[PROJECT]\n",
    "coll = db[EXPERIMENT]"
   ]
  },
  {
   "cell_type": "code",
   "execution_count": 6,
   "metadata": {},
   "outputs": [
    {
     "data": {
      "text/plain": [
       "['pilot_0']"
      ]
     },
     "execution_count": 6,
     "metadata": {},
     "output_type": "execute_result"
    }
   ],
   "source": [
    "### How what itereations we have\n",
    "coll.find({}).distinct('iterationName')"
   ]
  },
  {
   "cell_type": "code",
   "execution_count": 7,
   "metadata": {},
   "outputs": [
    {
     "name": "stdout",
     "output_type": "stream",
     "text": [
      "We have 1158 records in mongo.\n"
     ]
    }
   ],
   "source": [
    "# how many records (total trials)? \n",
    "print('We have {} records in mongo.'.format(coll.estimated_document_count()))"
   ]
  },
  {
   "cell_type": "code",
   "execution_count": 8,
   "metadata": {},
   "outputs": [
    {
     "name": "stdout",
     "output_type": "stream",
     "text": [
      "dict_keys(['_id', 'rt', 'response', 'concept', 'prompt', 'undo_history', 'png', 'strokes', 'trial_type', 'trial_index', 'time_elapsed', 'internal_node_id', 'pointer_device', 'iterationName', 'recruitmentPlatform', 'workerID', 'studyID', 'sessionID'])\n"
     ]
    }
   ],
   "source": [
    "### Check that we have all the columns we want\n",
    "print(coll.find_one().keys())"
   ]
  },
  {
   "cell_type": "code",
   "execution_count": 11,
   "metadata": {},
   "outputs": [],
   "source": [
    "### Make a df of sketches and metadata\n",
    "coll_filtered = coll.find({'iterationName':ITERATION,'trial_type':'sketchpad'})\n",
    "#pd.DataFrame(coll_filtered).to_csv(os.path.join(csv_dir,'temp.csv'))\n",
    "sketch_df = pd.DataFrame(coll_filtered)\n",
    "ratings_meta_df = pd.DataFrame(coll.find({'trial_type': {'$ne': 'sketchpad'}}))\n",
    "\n",
    "\n",
    "ratings_meta_df.to_csv(os.path.join(csv_dir,'things_drawing_100_pilot0_meta.csv'))\n",
    "sketch_df.to_csv(os.path.join(csv_dir,'things_drawing_100_pilot0_sketches.csv'))"
   ]
  },
  {
   "cell_type": "markdown",
   "metadata": {},
   "source": [
    "### Load data locally: Put CSVs in '../results/csv/'"
   ]
  },
  {
   "cell_type": "code",
   "execution_count": 4,
   "metadata": {},
   "outputs": [],
   "source": [
    "sketch_df = pd.read_csv(os.path.join(csv_dir,'things_drawing_100_pilot0_sketches.csv'))\n",
    "ratings_meta_df = pd.read_csv(os.path.join(csv_dir,'things_drawing_100_pilot0_meta.csv'))\n",
    "\n",
    "sketch_df.strokes = sketch_df.apply(lambda x: eval(x.strokes), axis=1)\n",
    "sketch_df.undo_history = sketch_df.apply(lambda x: eval(x.undo_history), axis=1)\n"
   ]
  },
  {
   "cell_type": "code",
   "execution_count": 5,
   "metadata": {},
   "outputs": [
    {
     "data": {
      "text/plain": [
       "51"
      ]
     },
     "execution_count": 5,
     "metadata": {},
     "output_type": "execute_result"
    }
   ],
   "source": [
    "sketch_df.workerID.nunique()"
   ]
  },
  {
   "cell_type": "code",
   "execution_count": 13,
   "metadata": {},
   "outputs": [],
   "source": [
    "### We'll want to save images based on sessionID\n",
    "### Save the images in the 'plots' dir\n",
    "for i, row in sketch_df.iterrows():\n",
    "    with open(os.path.join(plot_dir,f\"{row.concept}_{row.sessionID}.png\"), \"wb\") as fw:\n",
    "        fw.write(base64.decodebytes(str.encode(row.png.split(',')[1])))\n",
    "        \n"
   ]
  },
  {
   "cell_type": "markdown",
   "metadata": {},
   "source": [
    "### Let's visualize a few sketches"
   ]
  },
  {
   "cell_type": "code",
   "execution_count": 14,
   "metadata": {},
   "outputs": [],
   "source": [
    "##Cherry picked sketch\n",
    "test_strokes = sketch_df.strokes[3] \n",
    "test_undos = sketch_df.undo_history[3] ### Might not exist\n"
   ]
  },
  {
   "cell_type": "code",
   "execution_count": 15,
   "metadata": {},
   "outputs": [],
   "source": [
    "### Old plotting code, keep around if needed\n",
    "\n",
    "# im_temp = np.zeros((550,550))\n",
    "\n",
    "# for stroke in test_strokes:\n",
    "\n",
    "#     xs = [x['x'] for x in stroke if x['action']!='end']\n",
    "#     ys = [x['y'] for x in stroke if x['action']!='end']\n",
    "#     im_temp[ys,xs]=1\n",
    "# plt.imshow(im_temp, cmap = 'gray_r')\n",
    "# plt.title('pen trajectory')\n",
    "# plt.show()"
   ]
  },
  {
   "cell_type": "code",
   "execution_count": null,
   "metadata": {},
   "outputs": [],
   "source": []
  },
  {
   "cell_type": "code",
   "execution_count": null,
   "metadata": {},
   "outputs": [],
   "source": []
  },
  {
   "cell_type": "code",
   "execution_count": 16,
   "metadata": {},
   "outputs": [
    {
     "data": {
      "image/png": "[encoded data removed]",
      "text/plain": [
       "<Figure size 500x500 with 1 Axes>"
      ]
     },
     "metadata": {},
     "output_type": "display_data"
    }
   ],
   "source": [
    "plt.figure(figsize=(5,5))\n",
    "\n",
    "for stroke in test_strokes:\n",
    "\n",
    "    xs = [x['x'] for x in stroke if x['action']!='end']\n",
    "    ys = [x['y'] for x in stroke if x['action']!='end']\n",
    "    plt.scatter(np.array(xs),550-np.array(ys))\n",
    "plt.xlim(0,550)\n",
    "plt.ylim(0,550)\n",
    "plt.title(f'pen trajectory for {sketch_df.concept[3]}'  )\n",
    "plt.show()"
   ]
  },
  {
   "cell_type": "code",
   "execution_count": 17,
   "metadata": {},
   "outputs": [
    {
     "data": {
      "image/png": "[encoded data removed]",
      "text/plain": [
       "<Figure size 500x500 with 1 Axes>"
      ]
     },
     "metadata": {},
     "output_type": "display_data"
    }
   ],
   "source": [
    "plt.figure(figsize=(5,5))\n",
    "\n",
    "for stroke in test_undos:\n",
    "\n",
    "    xs = [x['x'] for x in stroke if x['action']!='end']\n",
    "    ys = [x['y'] for x in stroke if x['action']!='end']\n",
    "    plt.scatter(np.array(xs),550-np.array(ys))\n",
    "plt.xlim(0,550)\n",
    "plt.ylim(0,550)\n",
    "plt.title(f'undo trajectory for {sketch_df.concept[3]}' )\n",
    "plt.show()\n"
   ]
  },
  {
   "cell_type": "markdown",
   "metadata": {},
   "source": [
    "### Get a snapshot of both dfs"
   ]
  },
  {
   "cell_type": "code",
   "execution_count": 16,
   "metadata": {},
   "outputs": [
    {
     "data": {
      "text/html": [
       "<div>\n",
       "<style scoped>\n",
       "    .dataframe tbody tr th:only-of-type {\n",
       "        vertical-align: middle;\n",
       "    }\n",
       "\n",
       "    .dataframe tbody tr th {\n",
       "        vertical-align: top;\n",
       "    }\n",
       "\n",
       "    .dataframe thead th {\n",
       "        text-align: right;\n",
       "    }\n",
       "</style>\n",
       "<table border=\"1\" class=\"dataframe\">\n",
       "  <thead>\n",
       "    <tr style=\"text-align: right;\">\n",
       "      <th></th>\n",
       "      <th>Unnamed: 0</th>\n",
       "      <th>_id</th>\n",
       "      <th>rt</th>\n",
       "      <th>response</th>\n",
       "      <th>question_order</th>\n",
       "      <th>concept</th>\n",
       "      <th>trial_type</th>\n",
       "      <th>trial_index</th>\n",
       "      <th>time_elapsed</th>\n",
       "      <th>internal_node_id</th>\n",
       "      <th>pointer_device</th>\n",
       "      <th>iterationName</th>\n",
       "      <th>recruitmentPlatform</th>\n",
       "      <th>workerID</th>\n",
       "      <th>studyID</th>\n",
       "      <th>sessionID</th>\n",
       "      <th>ipInfo</th>\n",
       "    </tr>\n",
       "  </thead>\n",
       "  <tbody>\n",
       "    <tr>\n",
       "      <th>679</th>\n",
       "      <td>679</td>\n",
       "      <td>633d36e484ca0a3028f30ed0</td>\n",
       "      <td>4400.0</td>\n",
       "      <td>{'Q0': 'Yes'}</td>\n",
       "      <td>[0]</td>\n",
       "      <td>pulley</td>\n",
       "      <td>survey-multi-choice</td>\n",
       "      <td>21</td>\n",
       "      <td>550419</td>\n",
       "      <td>0.0-2.0-1.9</td>\n",
       "      <td>fine</td>\n",
       "      <td>pilot_0</td>\n",
       "      <td>prolific</td>\n",
       "      <td>616c3f3a378cb38f3f7ecac3</td>\n",
       "      <td>633d20c01e6482030c916c66</td>\n",
       "      <td>633d2ef78164579ff7e89066</td>\n",
       "      <td>NaN</td>\n",
       "    </tr>\n",
       "    <tr>\n",
       "      <th>680</th>\n",
       "      <td>680</td>\n",
       "      <td>633d36f584ca0a3028f30ed1</td>\n",
       "      <td>16926.0</td>\n",
       "      <td>{'geoconsent': 'yes'}</td>\n",
       "      <td>[0]</td>\n",
       "      <td>NaN</td>\n",
       "      <td>survey-multi-choice</td>\n",
       "      <td>22</td>\n",
       "      <td>567352</td>\n",
       "      <td>0.0-3.0</td>\n",
       "      <td>fine</td>\n",
       "      <td>pilot_0</td>\n",
       "      <td>prolific</td>\n",
       "      <td>616c3f3a378cb38f3f7ecac3</td>\n",
       "      <td>633d20c01e6482030c916c66</td>\n",
       "      <td>633d2ef78164579ff7e89066</td>\n",
       "      <td>NaN</td>\n",
       "    </tr>\n",
       "    <tr>\n",
       "      <th>681</th>\n",
       "      <td>681</td>\n",
       "      <td>633d36f584ca0a3028f30ed2</td>\n",
       "      <td>NaN</td>\n",
       "      <td>NaN</td>\n",
       "      <td>NaN</td>\n",
       "      <td>NaN</td>\n",
       "      <td>call-function</td>\n",
       "      <td>23</td>\n",
       "      <td>567365</td>\n",
       "      <td>0.0-4.0-0.0</td>\n",
       "      <td>fine</td>\n",
       "      <td>pilot_0</td>\n",
       "      <td>prolific</td>\n",
       "      <td>616c3f3a378cb38f3f7ecac3</td>\n",
       "      <td>633d20c01e6482030c916c66</td>\n",
       "      <td>633d2ef78164579ff7e89066</td>\n",
       "      <td>NaN</td>\n",
       "    </tr>\n",
       "    <tr>\n",
       "      <th>682</th>\n",
       "      <td>682</td>\n",
       "      <td>633d374984ca0a3028f30ed3</td>\n",
       "      <td>83906.0</td>\n",
       "      <td>{'Country': 'portugal', 'State': '   vc'}</td>\n",
       "      <td>NaN</td>\n",
       "      <td>NaN</td>\n",
       "      <td>survey-text</td>\n",
       "      <td>24</td>\n",
       "      <td>651337</td>\n",
       "      <td>0.0-4.0-1.0</td>\n",
       "      <td>fine</td>\n",
       "      <td>pilot_0</td>\n",
       "      <td>prolific</td>\n",
       "      <td>616c3f3a378cb38f3f7ecac3</td>\n",
       "      <td>633d20c01e6482030c916c66</td>\n",
       "      <td>633d2ef78164579ff7e89066</td>\n",
       "      <td>{\\n  \"ip\": \"89.155.18.14\",\\n  \"hostname\": \"a89...</td>\n",
       "    </tr>\n",
       "    <tr>\n",
       "      <th>683</th>\n",
       "      <td>683</td>\n",
       "      <td>633d377484ca0a3028f30ed4</td>\n",
       "      <td>43713.0</td>\n",
       "      <td>{'participantSex': 'Male', 'participantEthnici...</td>\n",
       "      <td>[0, 1, 2, 3, 4]</td>\n",
       "      <td>NaN</td>\n",
       "      <td>survey-multi-choice</td>\n",
       "      <td>25</td>\n",
       "      <td>695056</td>\n",
       "      <td>0.0-5.0</td>\n",
       "      <td>fine</td>\n",
       "      <td>pilot_0</td>\n",
       "      <td>prolific</td>\n",
       "      <td>616c3f3a378cb38f3f7ecac3</td>\n",
       "      <td>633d20c01e6482030c916c66</td>\n",
       "      <td>633d2ef78164579ff7e89066</td>\n",
       "      <td>{\\n  \"ip\": \"89.155.18.14\",\\n  \"hostname\": \"a89...</td>\n",
       "    </tr>\n",
       "  </tbody>\n",
       "</table>\n",
       "</div>"
      ],
      "text/plain": [
       "     Unnamed: 0                       _id       rt  \\\n",
       "679         679  633d36e484ca0a3028f30ed0   4400.0   \n",
       "680         680  633d36f584ca0a3028f30ed1  16926.0   \n",
       "681         681  633d36f584ca0a3028f30ed2      NaN   \n",
       "682         682  633d374984ca0a3028f30ed3  83906.0   \n",
       "683         683  633d377484ca0a3028f30ed4  43713.0   \n",
       "\n",
       "                                              response   question_order  \\\n",
       "679                                      {'Q0': 'Yes'}              [0]   \n",
       "680                              {'geoconsent': 'yes'}              [0]   \n",
       "681                                                NaN              NaN   \n",
       "682          {'Country': 'portugal', 'State': '   vc'}              NaN   \n",
       "683  {'participantSex': 'Male', 'participantEthnici...  [0, 1, 2, 3, 4]   \n",
       "\n",
       "    concept           trial_type  trial_index  time_elapsed internal_node_id  \\\n",
       "679  pulley  survey-multi-choice           21        550419      0.0-2.0-1.9   \n",
       "680     NaN  survey-multi-choice           22        567352          0.0-3.0   \n",
       "681     NaN        call-function           23        567365      0.0-4.0-0.0   \n",
       "682     NaN          survey-text           24        651337      0.0-4.0-1.0   \n",
       "683     NaN  survey-multi-choice           25        695056          0.0-5.0   \n",
       "\n",
       "    pointer_device iterationName recruitmentPlatform  \\\n",
       "679           fine       pilot_0            prolific   \n",
       "680           fine       pilot_0            prolific   \n",
       "681           fine       pilot_0            prolific   \n",
       "682           fine       pilot_0            prolific   \n",
       "683           fine       pilot_0            prolific   \n",
       "\n",
       "                     workerID                   studyID  \\\n",
       "679  616c3f3a378cb38f3f7ecac3  633d20c01e6482030c916c66   \n",
       "680  616c3f3a378cb38f3f7ecac3  633d20c01e6482030c916c66   \n",
       "681  616c3f3a378cb38f3f7ecac3  633d20c01e6482030c916c66   \n",
       "682  616c3f3a378cb38f3f7ecac3  633d20c01e6482030c916c66   \n",
       "683  616c3f3a378cb38f3f7ecac3  633d20c01e6482030c916c66   \n",
       "\n",
       "                    sessionID  \\\n",
       "679  633d2ef78164579ff7e89066   \n",
       "680  633d2ef78164579ff7e89066   \n",
       "681  633d2ef78164579ff7e89066   \n",
       "682  633d2ef78164579ff7e89066   \n",
       "683  633d2ef78164579ff7e89066   \n",
       "\n",
       "                                                ipInfo  \n",
       "679                                                NaN  \n",
       "680                                                NaN  \n",
       "681                                                NaN  \n",
       "682  {\\n  \"ip\": \"89.155.18.14\",\\n  \"hostname\": \"a89...  \n",
       "683  {\\n  \"ip\": \"89.155.18.14\",\\n  \"hostname\": \"a89...  "
      ]
     },
     "execution_count": 16,
     "metadata": {},
     "output_type": "execute_result"
    }
   ],
   "source": [
    "ratings_meta_df.tail(5)\n"
   ]
  },
  {
   "cell_type": "code",
   "execution_count": 18,
   "metadata": {},
   "outputs": [
    {
     "data": {
      "text/html": [
       "<div>\n",
       "<style scoped>\n",
       "    .dataframe tbody tr th:only-of-type {\n",
       "        vertical-align: middle;\n",
       "    }\n",
       "\n",
       "    .dataframe tbody tr th {\n",
       "        vertical-align: top;\n",
       "    }\n",
       "\n",
       "    .dataframe thead th {\n",
       "        text-align: right;\n",
       "    }\n",
       "</style>\n",
       "<table border=\"1\" class=\"dataframe\">\n",
       "  <thead>\n",
       "    <tr style=\"text-align: right;\">\n",
       "      <th></th>\n",
       "      <th>Unnamed: 0</th>\n",
       "      <th>_id</th>\n",
       "      <th>rt</th>\n",
       "      <th>response</th>\n",
       "      <th>concept</th>\n",
       "      <th>prompt</th>\n",
       "      <th>undo_history</th>\n",
       "      <th>png</th>\n",
       "      <th>strokes</th>\n",
       "      <th>trial_type</th>\n",
       "      <th>trial_index</th>\n",
       "      <th>time_elapsed</th>\n",
       "      <th>internal_node_id</th>\n",
       "      <th>pointer_device</th>\n",
       "      <th>iterationName</th>\n",
       "      <th>recruitmentPlatform</th>\n",
       "      <th>workerID</th>\n",
       "      <th>studyID</th>\n",
       "      <th>sessionID</th>\n",
       "    </tr>\n",
       "  </thead>\n",
       "  <tbody>\n",
       "    <tr>\n",
       "      <th>468</th>\n",
       "      <td>468</td>\n",
       "      <td>633d365284ca0a3028f30ecb</td>\n",
       "      <td>28153</td>\n",
       "      <td>button</td>\n",
       "      <td>torch</td>\n",
       "      <td>&lt;p style='font-size:25px;font-weight:bold;marg...</td>\n",
       "      <td>[]</td>\n",
       "      <td>data:image/png;base64,iVBORw0KGgoAAAANSUhEUgAA...</td>\n",
       "      <td>[[{'x': 198, 'y': 455, 'color': '#000000', 'ac...</td>\n",
       "      <td>sketchpad</td>\n",
       "      <td>16</td>\n",
       "      <td>404513</td>\n",
       "      <td>0.0-2.0-0.7</td>\n",
       "      <td>fine</td>\n",
       "      <td>pilot_0</td>\n",
       "      <td>prolific</td>\n",
       "      <td>616c3f3a378cb38f3f7ecac3</td>\n",
       "      <td>633d20c01e6482030c916c66</td>\n",
       "      <td>633d2ef78164579ff7e89066</td>\n",
       "    </tr>\n",
       "    <tr>\n",
       "      <th>469</th>\n",
       "      <td>469</td>\n",
       "      <td>633d36a284ca0a3028f30ecd</td>\n",
       "      <td>74744</td>\n",
       "      <td>button</td>\n",
       "      <td>earwig</td>\n",
       "      <td>&lt;p style='font-size:25px;font-weight:bold;marg...</td>\n",
       "      <td>[]</td>\n",
       "      <td>data:image/png;base64,iVBORw0KGgoAAAANSUhEUgAA...</td>\n",
       "      <td>[[{'x': 129, 'y': 138, 'color': '#000000', 'ac...</td>\n",
       "      <td>sketchpad</td>\n",
       "      <td>18</td>\n",
       "      <td>484433</td>\n",
       "      <td>0.0-2.0-0.8</td>\n",
       "      <td>fine</td>\n",
       "      <td>pilot_0</td>\n",
       "      <td>prolific</td>\n",
       "      <td>616c3f3a378cb38f3f7ecac3</td>\n",
       "      <td>633d20c01e6482030c916c66</td>\n",
       "      <td>633d2ef78164579ff7e89066</td>\n",
       "    </tr>\n",
       "    <tr>\n",
       "      <th>470</th>\n",
       "      <td>470</td>\n",
       "      <td>633d36df84ca0a3028f30ecf</td>\n",
       "      <td>57431</td>\n",
       "      <td>button</td>\n",
       "      <td>pulley</td>\n",
       "      <td>&lt;p style='font-size:25px;font-weight:bold;marg...</td>\n",
       "      <td>[]</td>\n",
       "      <td>data:image/png;base64,iVBORw0KGgoAAAANSUhEUgAA...</td>\n",
       "      <td>[[{'x': 297, 'y': 128, 'color': '#000000', 'ac...</td>\n",
       "      <td>sketchpad</td>\n",
       "      <td>20</td>\n",
       "      <td>546003</td>\n",
       "      <td>0.0-2.0-0.9</td>\n",
       "      <td>fine</td>\n",
       "      <td>pilot_0</td>\n",
       "      <td>prolific</td>\n",
       "      <td>616c3f3a378cb38f3f7ecac3</td>\n",
       "      <td>633d20c01e6482030c916c66</td>\n",
       "      <td>633d2ef78164579ff7e89066</td>\n",
       "    </tr>\n",
       "    <tr>\n",
       "      <th>471</th>\n",
       "      <td>471</td>\n",
       "      <td>634586a384ca0a3028f30ed5</td>\n",
       "      <td>4506</td>\n",
       "      <td>button</td>\n",
       "      <td>dishrag</td>\n",
       "      <td>&lt;p style='font-size:25px;font-weight:bold;marg...</td>\n",
       "      <td>[]</td>\n",
       "      <td>data:image/png;base64,iVBORw0KGgoAAAANSUhEUgAA...</td>\n",
       "      <td>[[{'x': 289, 'y': 411, 'color': '#000000', 'ac...</td>\n",
       "      <td>sketchpad</td>\n",
       "      <td>2</td>\n",
       "      <td>7321</td>\n",
       "      <td>0.0-2.0-0.0</td>\n",
       "      <td>fine</td>\n",
       "      <td>pilot_0</td>\n",
       "      <td>prolific</td>\n",
       "      <td>NaN</td>\n",
       "      <td>NaN</td>\n",
       "      <td>NaN</td>\n",
       "    </tr>\n",
       "    <tr>\n",
       "      <th>472</th>\n",
       "      <td>472</td>\n",
       "      <td>6357c26c84ca0a3028f30ed6</td>\n",
       "      <td>82817</td>\n",
       "      <td>button</td>\n",
       "      <td>fruitcake</td>\n",
       "      <td>&lt;p style='font-size:25px;font-weight:bold;marg...</td>\n",
       "      <td>[]</td>\n",
       "      <td>data:image/png;base64,iVBORw0KGgoAAAANSUhEUgAA...</td>\n",
       "      <td>[[{'x': 151, 'y': 262, 'color': '#000000', 'ac...</td>\n",
       "      <td>sketchpad</td>\n",
       "      <td>2</td>\n",
       "      <td>1573479</td>\n",
       "      <td>0.0-2.0-0.0</td>\n",
       "      <td>fine</td>\n",
       "      <td>pilot_0</td>\n",
       "      <td>prolific</td>\n",
       "      <td>62686c6e90a0f6fe0a6c646a</td>\n",
       "      <td>634c44b07e8d542bf5ff2df6</td>\n",
       "      <td>6357ba339f4902a6af0db128</td>\n",
       "    </tr>\n",
       "  </tbody>\n",
       "</table>\n",
       "</div>"
      ],
      "text/plain": [
       "     Unnamed: 0                       _id     rt response    concept  \\\n",
       "468         468  633d365284ca0a3028f30ecb  28153   button      torch   \n",
       "469         469  633d36a284ca0a3028f30ecd  74744   button     earwig   \n",
       "470         470  633d36df84ca0a3028f30ecf  57431   button     pulley   \n",
       "471         471  634586a384ca0a3028f30ed5   4506   button    dishrag   \n",
       "472         472  6357c26c84ca0a3028f30ed6  82817   button  fruitcake   \n",
       "\n",
       "                                                prompt undo_history  \\\n",
       "468  <p style='font-size:25px;font-weight:bold;marg...           []   \n",
       "469  <p style='font-size:25px;font-weight:bold;marg...           []   \n",
       "470  <p style='font-size:25px;font-weight:bold;marg...           []   \n",
       "471  <p style='font-size:25px;font-weight:bold;marg...           []   \n",
       "472  <p style='font-size:25px;font-weight:bold;marg...           []   \n",
       "\n",
       "                                                   png  \\\n",
       "468  data:image/png;base64,iVBORw0KGgoAAAANSUhEUgAA...   \n",
       "469  data:image/png;base64,iVBORw0KGgoAAAANSUhEUgAA...   \n",
       "470  data:image/png;base64,iVBORw0KGgoAAAANSUhEUgAA...   \n",
       "471  data:image/png;base64,iVBORw0KGgoAAAANSUhEUgAA...   \n",
       "472  data:image/png;base64,iVBORw0KGgoAAAANSUhEUgAA...   \n",
       "\n",
       "                                               strokes trial_type  \\\n",
       "468  [[{'x': 198, 'y': 455, 'color': '#000000', 'ac...  sketchpad   \n",
       "469  [[{'x': 129, 'y': 138, 'color': '#000000', 'ac...  sketchpad   \n",
       "470  [[{'x': 297, 'y': 128, 'color': '#000000', 'ac...  sketchpad   \n",
       "471  [[{'x': 289, 'y': 411, 'color': '#000000', 'ac...  sketchpad   \n",
       "472  [[{'x': 151, 'y': 262, 'color': '#000000', 'ac...  sketchpad   \n",
       "\n",
       "     trial_index  time_elapsed internal_node_id pointer_device iterationName  \\\n",
       "468           16        404513      0.0-2.0-0.7           fine       pilot_0   \n",
       "469           18        484433      0.0-2.0-0.8           fine       pilot_0   \n",
       "470           20        546003      0.0-2.0-0.9           fine       pilot_0   \n",
       "471            2          7321      0.0-2.0-0.0           fine       pilot_0   \n",
       "472            2       1573479      0.0-2.0-0.0           fine       pilot_0   \n",
       "\n",
       "    recruitmentPlatform                  workerID                   studyID  \\\n",
       "468            prolific  616c3f3a378cb38f3f7ecac3  633d20c01e6482030c916c66   \n",
       "469            prolific  616c3f3a378cb38f3f7ecac3  633d20c01e6482030c916c66   \n",
       "470            prolific  616c3f3a378cb38f3f7ecac3  633d20c01e6482030c916c66   \n",
       "471            prolific                       NaN                       NaN   \n",
       "472            prolific  62686c6e90a0f6fe0a6c646a  634c44b07e8d542bf5ff2df6   \n",
       "\n",
       "                    sessionID  \n",
       "468  633d2ef78164579ff7e89066  \n",
       "469  633d2ef78164579ff7e89066  \n",
       "470  633d2ef78164579ff7e89066  \n",
       "471                       NaN  \n",
       "472  6357ba339f4902a6af0db128  "
      ]
     },
     "execution_count": 18,
     "metadata": {},
     "output_type": "execute_result"
    }
   ],
   "source": [
    "sketch_df.tail(5)\n"
   ]
  },
  {
   "cell_type": "markdown",
   "metadata": {},
   "source": [
    "### Some preliminary plots and stats"
   ]
  },
  {
   "cell_type": "code",
   "execution_count": 19,
   "metadata": {},
   "outputs": [
    {
     "name": "stderr",
     "output_type": "stream",
     "text": [
      "/var/folders/62/ybvc3cw53hj40799y980__gr0000gn/T/ipykernel_18184/194397141.py:4: SettingWithCopyWarning: \n",
      "A value is trying to be set on a copy of a slice from a DataFrame.\n",
      "Try using .loc[row_indexer,col_indexer] = value instead\n",
      "\n",
      "See the caveats in the documentation: https://pandas.pydata.org/pandas-docs/stable/user_guide/indexing.html#returning-a-view-versus-a-copy\n",
      "  fam_df.response = fam_df.apply(lambda x: eval(x.response), axis=1)\n",
      "/var/folders/62/ybvc3cw53hj40799y980__gr0000gn/T/ipykernel_18184/194397141.py:5: SettingWithCopyWarning: \n",
      "A value is trying to be set on a copy of a slice from a DataFrame.\n",
      "Try using .loc[row_indexer,col_indexer] = value instead\n",
      "\n",
      "See the caveats in the documentation: https://pandas.pydata.org/pandas-docs/stable/user_guide/indexing.html#returning-a-view-versus-a-copy\n",
      "  fam_df['response_numeric']  = fam_df.apply(lambda x: 1 if x.response['Q0']=='Yes' else 0,axis=1)\n"
     ]
    }
   ],
   "source": [
    "### be mindful of the SettingWithCopyWarning\n",
    "\n",
    "fam_df = ratings_meta_df[(ratings_meta_df.trial_type == 'survey-multi-choice') & (ratings_meta_df.trial_index<22)]\n",
    "fam_df.response = fam_df.apply(lambda x: eval(x.response), axis=1)\n",
    "fam_df['response_numeric']  = fam_df.apply(lambda x: 1 if x.response['Q0']=='Yes' else 0,axis=1)\n",
    "\n",
    "fam_df_grouped = fam_df.groupby('concept').agg({'response_numeric':lambda x: np.mean(x)}).reset_index()\n"
   ]
  },
  {
   "cell_type": "code",
   "execution_count": 20,
   "metadata": {},
   "outputs": [
    {
     "data": {
      "image/png": "[encoded data removed]",
      "text/plain": [
       "<Figure size 1500x600 with 1 Axes>"
      ]
     },
     "metadata": {},
     "output_type": "display_data"
    }
   ],
   "source": [
    "plt.figure(figsize=(15,6))\n",
    "sns.barplot(fam_df_grouped,x ='concept',y='response_numeric',order=fam_df_grouped.sort_values('response_numeric',ascending=False).concept,color='gray')\n",
    "plt.xticks(rotation=90,fontsize=10)\n",
    "plt.ylabel('Mean Familiarity')\n",
    "plt.xlabel('Concept')\n",
    "plt.title('THINGS-100 Drawing familiarity')\n",
    "plt.show()"
   ]
  },
  {
   "cell_type": "code",
   "execution_count": 45,
   "metadata": {},
   "outputs": [
    {
     "data": {
      "text/plain": [
       "Text(0.5, 1.0, 'Distribution of number of strokes')"
      ]
     },
     "execution_count": 45,
     "metadata": {},
     "output_type": "execute_result"
    },
    {
     "data": {
      "image/png": "[encoded data removed]",
      "text/plain": [
       "<Figure size 640x480 with 1 Axes>"
      ]
     },
     "metadata": {},
     "output_type": "display_data"
    }
   ],
   "source": [
    "## add number of strokes as a numeric value\n",
    "sketch_df['num_strokes'] = sketch_df.apply(lambda x: len(x.strokes),axis=1)\n",
    "\n",
    "plt.hist(sketch_df.num_strokes, bins=25)\n",
    "plt.title(\"Distribution of number of strokes\")"
   ]
  },
  {
   "cell_type": "code",
   "execution_count": 21,
   "metadata": {},
   "outputs": [],
   "source": [
    "## add a column of png array\n",
    "sketch_df['png_array'] = sketch_df.apply(lambda x: string_to_image(x.png), axis=1)\n"
   ]
  },
  {
   "cell_type": "code",
   "execution_count": 44,
   "metadata": {},
   "outputs": [],
   "source": [
    "# ## Look at 5 of each sketch!\n",
    "\n",
    "for concept in sketch_df.concept.unique():\n",
    "    plot_image_grid(concept,dim=10)"
   ]
  },
  {
   "cell_type": "code",
   "execution_count": 58,
   "metadata": {},
   "outputs": [
    {
     "data": {
      "text/plain": [
       "concept\n",
       "alligator           11.000000\n",
       "aloe                 9.750000\n",
       "amplifier           17.714286\n",
       "anvil                7.166667\n",
       "apple                3.666667\n",
       "                      ...    \n",
       "vise                 8.166667\n",
       "volleyball           8.400000\n",
       "wick                 2.666667\n",
       "windshield_wiper    17.833333\n",
       "wine_cooler          8.500000\n",
       "Name: num_strokes, Length: 100, dtype: float64"
      ]
     },
     "execution_count": 58,
     "metadata": {},
     "output_type": "execute_result"
    }
   ],
   "source": [
    "sketch_df.groupby('concept')['num_strokes'].mean()"
   ]
  },
  {
   "cell_type": "code",
   "execution_count": 62,
   "metadata": {},
   "outputs": [
    {
     "data": {
      "text/html": [
       "<div>\n",
       "<style scoped>\n",
       "    .dataframe tbody tr th:only-of-type {\n",
       "        vertical-align: middle;\n",
       "    }\n",
       "\n",
       "    .dataframe tbody tr th {\n",
       "        vertical-align: top;\n",
       "    }\n",
       "\n",
       "    .dataframe thead th {\n",
       "        text-align: right;\n",
       "    }\n",
       "</style>\n",
       "<table border=\"1\" class=\"dataframe\">\n",
       "  <thead>\n",
       "    <tr style=\"text-align: right;\">\n",
       "      <th></th>\n",
       "      <th>concept</th>\n",
       "      <th>num_strokes</th>\n",
       "      <th>rt</th>\n",
       "    </tr>\n",
       "  </thead>\n",
       "  <tbody>\n",
       "    <tr>\n",
       "      <th>0</th>\n",
       "      <td>alligator</td>\n",
       "      <td>11.000000</td>\n",
       "      <td>59321.166667</td>\n",
       "    </tr>\n",
       "    <tr>\n",
       "      <th>1</th>\n",
       "      <td>aloe</td>\n",
       "      <td>9.750000</td>\n",
       "      <td>40031.750000</td>\n",
       "    </tr>\n",
       "    <tr>\n",
       "      <th>2</th>\n",
       "      <td>amplifier</td>\n",
       "      <td>17.714286</td>\n",
       "      <td>76142.857143</td>\n",
       "    </tr>\n",
       "    <tr>\n",
       "      <th>3</th>\n",
       "      <td>anvil</td>\n",
       "      <td>7.166667</td>\n",
       "      <td>61465.500000</td>\n",
       "    </tr>\n",
       "    <tr>\n",
       "      <th>4</th>\n",
       "      <td>apple</td>\n",
       "      <td>3.666667</td>\n",
       "      <td>21952.333333</td>\n",
       "    </tr>\n",
       "    <tr>\n",
       "      <th>...</th>\n",
       "      <td>...</td>\n",
       "      <td>...</td>\n",
       "      <td>...</td>\n",
       "    </tr>\n",
       "    <tr>\n",
       "      <th>95</th>\n",
       "      <td>vise</td>\n",
       "      <td>8.166667</td>\n",
       "      <td>39911.833333</td>\n",
       "    </tr>\n",
       "    <tr>\n",
       "      <th>96</th>\n",
       "      <td>volleyball</td>\n",
       "      <td>8.400000</td>\n",
       "      <td>59230.000000</td>\n",
       "    </tr>\n",
       "    <tr>\n",
       "      <th>97</th>\n",
       "      <td>wick</td>\n",
       "      <td>2.666667</td>\n",
       "      <td>16876.666667</td>\n",
       "    </tr>\n",
       "    <tr>\n",
       "      <th>98</th>\n",
       "      <td>windshield_wiper</td>\n",
       "      <td>17.833333</td>\n",
       "      <td>79667.000000</td>\n",
       "    </tr>\n",
       "    <tr>\n",
       "      <th>99</th>\n",
       "      <td>wine_cooler</td>\n",
       "      <td>8.500000</td>\n",
       "      <td>79102.500000</td>\n",
       "    </tr>\n",
       "  </tbody>\n",
       "</table>\n",
       "<p>100 rows × 3 columns</p>\n",
       "</div>"
      ],
      "text/plain": [
       "             concept  num_strokes            rt\n",
       "0          alligator    11.000000  59321.166667\n",
       "1               aloe     9.750000  40031.750000\n",
       "2          amplifier    17.714286  76142.857143\n",
       "3              anvil     7.166667  61465.500000\n",
       "4              apple     3.666667  21952.333333\n",
       "..               ...          ...           ...\n",
       "95              vise     8.166667  39911.833333\n",
       "96        volleyball     8.400000  59230.000000\n",
       "97              wick     2.666667  16876.666667\n",
       "98  windshield_wiper    17.833333  79667.000000\n",
       "99       wine_cooler     8.500000  79102.500000\n",
       "\n",
       "[100 rows x 3 columns]"
      ]
     },
     "execution_count": 62,
     "metadata": {},
     "output_type": "execute_result"
    }
   ],
   "source": [
    "sketch_df_grouped = sketch_df.groupby('concept').agg({'num_strokes':lambda x: np.mean(x),'rt':lambda x: np.mean(x)}).reset_index()\n",
    "sketch_df_grouped"
   ]
  },
  {
   "cell_type": "code",
   "execution_count": 64,
   "metadata": {},
   "outputs": [
    {
     "data": {
      "text/plain": [
       "array([[1.       , 0.4179934],\n",
       "       [0.4179934, 1.       ]])"
      ]
     },
     "execution_count": 64,
     "metadata": {},
     "output_type": "execute_result"
    }
   ],
   "source": [
    "np.corrcoef(sketch_df_grouped.num_strokes ,sketch_df_grouped.rt)\n"
   ]
  },
  {
   "cell_type": "code",
   "execution_count": 66,
   "metadata": {},
   "outputs": [
    {
     "data": {
      "text/html": [
       "<div>\n",
       "<style scoped>\n",
       "    .dataframe tbody tr th:only-of-type {\n",
       "        vertical-align: middle;\n",
       "    }\n",
       "\n",
       "    .dataframe tbody tr th {\n",
       "        vertical-align: top;\n",
       "    }\n",
       "\n",
       "    .dataframe thead th {\n",
       "        text-align: right;\n",
       "    }\n",
       "</style>\n",
       "<table border=\"1\" class=\"dataframe\">\n",
       "  <thead>\n",
       "    <tr style=\"text-align: right;\">\n",
       "      <th></th>\n",
       "      <th>Unnamed: 0</th>\n",
       "      <th>_id</th>\n",
       "      <th>rt</th>\n",
       "      <th>response</th>\n",
       "      <th>concept</th>\n",
       "      <th>prompt</th>\n",
       "      <th>undo_history</th>\n",
       "      <th>png</th>\n",
       "      <th>strokes</th>\n",
       "      <th>trial_type</th>\n",
       "      <th>trial_index</th>\n",
       "      <th>time_elapsed</th>\n",
       "      <th>internal_node_id</th>\n",
       "      <th>pointer_device</th>\n",
       "      <th>iterationName</th>\n",
       "      <th>recruitmentPlatform</th>\n",
       "      <th>workerID</th>\n",
       "      <th>studyID</th>\n",
       "      <th>sessionID</th>\n",
       "      <th>num_strokes</th>\n",
       "    </tr>\n",
       "  </thead>\n",
       "  <tbody>\n",
       "    <tr>\n",
       "      <th>61</th>\n",
       "      <td>61</td>\n",
       "      <td>633d228684ca0a3028f30ae2</td>\n",
       "      <td>41450</td>\n",
       "      <td>button</td>\n",
       "      <td>pedometer</td>\n",
       "      <td>&lt;p style='font-size:25px;font-weight:bold;marg...</td>\n",
       "      <td>[]</td>\n",
       "      <td>data:image/png;base64,iVBORw0KGgoAAAANSUhEUgAA...</td>\n",
       "      <td>[[{'x': 140, 'y': 127, 'color': '#000000', 'ac...</td>\n",
       "      <td>sketchpad</td>\n",
       "      <td>4</td>\n",
       "      <td>87505</td>\n",
       "      <td>0.0-2.0-0.1</td>\n",
       "      <td>fine</td>\n",
       "      <td>pilot_0</td>\n",
       "      <td>prolific</td>\n",
       "      <td>615aa900c220b984ac72d063</td>\n",
       "      <td>633d20c01e6482030c916c66</td>\n",
       "      <td>633d221fe910ffa86facb120</td>\n",
       "      <td>6</td>\n",
       "    </tr>\n",
       "    <tr>\n",
       "      <th>109</th>\n",
       "      <td>109</td>\n",
       "      <td>633d22d884ca0a3028f30b40</td>\n",
       "      <td>21409</td>\n",
       "      <td>button</td>\n",
       "      <td>pedometer</td>\n",
       "      <td>&lt;p style='font-size:25px;font-weight:bold;marg...</td>\n",
       "      <td>[]</td>\n",
       "      <td>data:image/png;base64,iVBORw0KGgoAAAANSUhEUgAA...</td>\n",
       "      <td>[[{'x': 299, 'y': 25, 'color': '#000000', 'act...</td>\n",
       "      <td>sketchpad</td>\n",
       "      <td>12</td>\n",
       "      <td>131866</td>\n",
       "      <td>0.0-2.0-0.5</td>\n",
       "      <td>fine</td>\n",
       "      <td>pilot_0</td>\n",
       "      <td>prolific</td>\n",
       "      <td>5f076c86c025b537201fcd06</td>\n",
       "      <td>633d20c01e6482030c916c66</td>\n",
       "      <td>633d224ffd427678c4138a1b</td>\n",
       "      <td>3</td>\n",
       "    </tr>\n",
       "    <tr>\n",
       "      <th>130</th>\n",
       "      <td>130</td>\n",
       "      <td>633d22fb84ca0a3028f30b69</td>\n",
       "      <td>11556</td>\n",
       "      <td>button</td>\n",
       "      <td>pedometer</td>\n",
       "      <td>&lt;p style='font-size:25px;font-weight:bold;marg...</td>\n",
       "      <td>[]</td>\n",
       "      <td>data:image/png;base64,iVBORw0KGgoAAAANSUhEUgAA...</td>\n",
       "      <td>[[{'x': 258, 'y': 295, 'color': '#000000', 'ac...</td>\n",
       "      <td>sketchpad</td>\n",
       "      <td>16</td>\n",
       "      <td>225043</td>\n",
       "      <td>0.0-2.0-0.7</td>\n",
       "      <td>fine</td>\n",
       "      <td>pilot_0</td>\n",
       "      <td>prolific</td>\n",
       "      <td>613e5cc0b908c0b63fc98b6e</td>\n",
       "      <td>633d20c01e6482030c916c66</td>\n",
       "      <td>633d22082e9669febc6e1975</td>\n",
       "      <td>2</td>\n",
       "    </tr>\n",
       "    <tr>\n",
       "      <th>144</th>\n",
       "      <td>144</td>\n",
       "      <td>633d231384ca0a3028f30b88</td>\n",
       "      <td>47234</td>\n",
       "      <td>button</td>\n",
       "      <td>pedometer</td>\n",
       "      <td>&lt;p style='font-size:25px;font-weight:bold;marg...</td>\n",
       "      <td>[]</td>\n",
       "      <td>data:image/png;base64,iVBORw0KGgoAAAANSUhEUgAA...</td>\n",
       "      <td>[[{'x': 268, 'y': 87, 'color': '#000000', 'act...</td>\n",
       "      <td>sketchpad</td>\n",
       "      <td>4</td>\n",
       "      <td>158467</td>\n",
       "      <td>0.0-2.0-0.1</td>\n",
       "      <td>fine</td>\n",
       "      <td>pilot_0</td>\n",
       "      <td>prolific</td>\n",
       "      <td>60f5bcf96cd0848f008e3902</td>\n",
       "      <td>633d20c01e6482030c916c66</td>\n",
       "      <td>633d2268e557d3ed74175c35</td>\n",
       "      <td>13</td>\n",
       "    </tr>\n",
       "    <tr>\n",
       "      <th>451</th>\n",
       "      <td>451</td>\n",
       "      <td>633d308c84ca0a3028f30ea1</td>\n",
       "      <td>42026</td>\n",
       "      <td>button</td>\n",
       "      <td>pedometer</td>\n",
       "      <td>&lt;p style='font-size:25px;font-weight:bold;marg...</td>\n",
       "      <td>[[{'x': 415, 'y': 38, 'color': '#000000', 'act...</td>\n",
       "      <td>data:image/png;base64,iVBORw0KGgoAAAANSUhEUgAA...</td>\n",
       "      <td>[[{'x': 233, 'y': 171, 'color': '#000000', 'ac...</td>\n",
       "      <td>sketchpad</td>\n",
       "      <td>16</td>\n",
       "      <td>389346</td>\n",
       "      <td>0.0-2.0-0.7</td>\n",
       "      <td>fine</td>\n",
       "      <td>pilot_0</td>\n",
       "      <td>prolific</td>\n",
       "      <td>60f06a479c4f3ec0a536d40a</td>\n",
       "      <td>633d20c01e6482030c916c66</td>\n",
       "      <td>633d2ef6956ff2479f0c7792</td>\n",
       "      <td>9</td>\n",
       "    </tr>\n",
       "  </tbody>\n",
       "</table>\n",
       "</div>"
      ],
      "text/plain": [
       "     Unnamed: 0                       _id     rt response    concept  \\\n",
       "61           61  633d228684ca0a3028f30ae2  41450   button  pedometer   \n",
       "109         109  633d22d884ca0a3028f30b40  21409   button  pedometer   \n",
       "130         130  633d22fb84ca0a3028f30b69  11556   button  pedometer   \n",
       "144         144  633d231384ca0a3028f30b88  47234   button  pedometer   \n",
       "451         451  633d308c84ca0a3028f30ea1  42026   button  pedometer   \n",
       "\n",
       "                                                prompt  \\\n",
       "61   <p style='font-size:25px;font-weight:bold;marg...   \n",
       "109  <p style='font-size:25px;font-weight:bold;marg...   \n",
       "130  <p style='font-size:25px;font-weight:bold;marg...   \n",
       "144  <p style='font-size:25px;font-weight:bold;marg...   \n",
       "451  <p style='font-size:25px;font-weight:bold;marg...   \n",
       "\n",
       "                                          undo_history  \\\n",
       "61                                                  []   \n",
       "109                                                 []   \n",
       "130                                                 []   \n",
       "144                                                 []   \n",
       "451  [[{'x': 415, 'y': 38, 'color': '#000000', 'act...   \n",
       "\n",
       "                                                   png  \\\n",
       "61   data:image/png;base64,iVBORw0KGgoAAAANSUhEUgAA...   \n",
       "109  data:image/png;base64,iVBORw0KGgoAAAANSUhEUgAA...   \n",
       "130  data:image/png;base64,iVBORw0KGgoAAAANSUhEUgAA...   \n",
       "144  data:image/png;base64,iVBORw0KGgoAAAANSUhEUgAA...   \n",
       "451  data:image/png;base64,iVBORw0KGgoAAAANSUhEUgAA...   \n",
       "\n",
       "                                               strokes trial_type  \\\n",
       "61   [[{'x': 140, 'y': 127, 'color': '#000000', 'ac...  sketchpad   \n",
       "109  [[{'x': 299, 'y': 25, 'color': '#000000', 'act...  sketchpad   \n",
       "130  [[{'x': 258, 'y': 295, 'color': '#000000', 'ac...  sketchpad   \n",
       "144  [[{'x': 268, 'y': 87, 'color': '#000000', 'act...  sketchpad   \n",
       "451  [[{'x': 233, 'y': 171, 'color': '#000000', 'ac...  sketchpad   \n",
       "\n",
       "     trial_index  time_elapsed internal_node_id pointer_device iterationName  \\\n",
       "61             4         87505      0.0-2.0-0.1           fine       pilot_0   \n",
       "109           12        131866      0.0-2.0-0.5           fine       pilot_0   \n",
       "130           16        225043      0.0-2.0-0.7           fine       pilot_0   \n",
       "144            4        158467      0.0-2.0-0.1           fine       pilot_0   \n",
       "451           16        389346      0.0-2.0-0.7           fine       pilot_0   \n",
       "\n",
       "    recruitmentPlatform                  workerID                   studyID  \\\n",
       "61             prolific  615aa900c220b984ac72d063  633d20c01e6482030c916c66   \n",
       "109            prolific  5f076c86c025b537201fcd06  633d20c01e6482030c916c66   \n",
       "130            prolific  613e5cc0b908c0b63fc98b6e  633d20c01e6482030c916c66   \n",
       "144            prolific  60f5bcf96cd0848f008e3902  633d20c01e6482030c916c66   \n",
       "451            prolific  60f06a479c4f3ec0a536d40a  633d20c01e6482030c916c66   \n",
       "\n",
       "                    sessionID  num_strokes  \n",
       "61   633d221fe910ffa86facb120            6  \n",
       "109  633d224ffd427678c4138a1b            3  \n",
       "130  633d22082e9669febc6e1975            2  \n",
       "144  633d2268e557d3ed74175c35           13  \n",
       "451  633d2ef6956ff2479f0c7792            9  "
      ]
     },
     "execution_count": 66,
     "metadata": {},
     "output_type": "execute_result"
    }
   ],
   "source": [
    "sketch_df[sketch_df.concept=='pedometer']"
   ]
  },
  {
   "cell_type": "code",
   "execution_count": 73,
   "metadata": {},
   "outputs": [
    {
     "data": {
      "text/plain": [
       "\"{'participantSex': 'Male', 'participantEthnicity': 'White', 'inputDevice': 'Touch Screen', 'subjectiveSkill': '3', 'imagery': 'somewhat clear'}\""
      ]
     },
     "execution_count": 73,
     "metadata": {},
     "output_type": "execute_result"
    }
   ],
   "source": [
    "ratings_meta_df.tail(2).iloc[0,:]['response']"
   ]
  },
  {
   "cell_type": "code",
   "execution_count": null,
   "metadata": {},
   "outputs": [],
   "source": []
  },
  {
   "cell_type": "markdown",
   "metadata": {},
   "source": [
    "## ☢️ Careful here ☢️"
   ]
  },
  {
   "cell_type": "code",
   "execution_count": null,
   "metadata": {},
   "outputs": [],
   "source": [
    "really_run=False\n",
    "if really_run==True:\n",
    "    db.drop_collection('things-100')"
   ]
  },
  {
   "cell_type": "code",
   "execution_count": null,
   "metadata": {},
   "outputs": [],
   "source": []
  },
  {
   "cell_type": "code",
   "execution_count": null,
   "metadata": {},
   "outputs": [],
   "source": []
  },
  {
   "cell_type": "code",
   "execution_count": null,
   "metadata": {},
   "outputs": [],
   "source": []
  },
  {
   "cell_type": "code",
   "execution_count": null,
   "metadata": {},
   "outputs": [],
   "source": []
  }
 ],
 "metadata": {
  "kernelspec": {
   "display_name": "sketch_models",
   "language": "python",
   "name": "python3"
  },
  "language_info": {
   "codemirror_mode": {
    "name": "ipython",
    "version": 3
   },
   "file_extension": ".py",
   "mimetype": "text/x-python",
   "name": "python",
   "nbconvert_exporter": "python",
   "pygments_lexer": "ipython3",
   "version": "3.8.13 | packaged by conda-forge | (default, Mar 25 2022, 06:05:16) \n[Clang 12.0.1 ]"
  },
  "orig_nbformat": 4,
  "vscode": {
   "interpreter": {
    "hash": "948ddb06426d110fb8709d965d8d26aeed62a2fade135e77a31f81eb95224669"
   }
  }
 },
 "nbformat": 4,
 "nbformat_minor": 2
}
